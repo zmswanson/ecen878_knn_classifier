{
 "cells": [
  {
   "cell_type": "markdown",
   "metadata": {},
   "source": [
    "# Assignment 1: Dataset Exploration and A Study of the k-Nearest Neighbors Model\n",
    "\n",
    "Task/Problem Statement: \n",
    "- Briefly describe your project/task/problem\n",
    "\n",
    "### Dataset\n",
    "- Provide information about the dataset\n",
    "\n",
    "\n",
    "\n",
    "##### Description: \n",
    "\n",
    "###### Source:\n",
    "- It could be a URL\n",
    "\n",
    "\n",
    "\n",
    "##### Input variables:\n",
    "- Provide a list\n",
    "\n",
    "##### Output variable: \n",
    "- \n",
    "\n",
    "\n"
   ]
  },
  {
   "cell_type": "code",
   "execution_count": 1,
   "metadata": {},
   "outputs": [],
   "source": [
    "import pandas as pd\n",
    "import numpy as np\n",
    "import matplotlib.pyplot as plt\n",
    "import sklearn as sk"
   ]
  },
  {
   "cell_type": "markdown",
   "metadata": {},
   "source": [
    "## Load Data & Display Dataset Information"
   ]
  },
  {
   "cell_type": "code",
   "execution_count": 2,
   "metadata": {},
   "outputs": [
    {
     "name": "stdout",
     "output_type": "stream",
     "text": [
      "    age          workclass  fnlwgt   education  education-num  \\\n",
      "0   NaN          State-gov   77516   Bachelors             13   \n",
      "1  50.0   Self-emp-not-inc   83311   Bachelors             13   \n",
      "2  38.0            Private  215646     HS-grad              9   \n",
      "3  53.0            Private  234721        11th              7   \n",
      "4  28.0            Private  338409   Bachelors             13   \n",
      "\n",
      "        marital-status          occupation     relatioship    race      sex  \\\n",
      "0        Never-married        Adm-clerical   Not-in-family   White     Male   \n",
      "1   Married-civ-spouse     Exec-managerial         Husband   White     Male   \n",
      "2             Divorced   Handlers-cleaners   Not-in-family   White     Male   \n",
      "3   Married-civ-spouse   Handlers-cleaners         Husband   Black     Male   \n",
      "4   Married-civ-spouse      Prof-specialty            Wife   Black   Female   \n",
      "\n",
      "   capital-gain  capital-loss  hours-per-week  native-country  income  \n",
      "0          2174             0              40   United-States   <=50K  \n",
      "1             0             0              13   United-States   <=50K  \n",
      "2             0             0              40   United-States   <=50K  \n",
      "3             0             0              40   United-States   <=50K  \n",
      "4             0             0              40            Cuba   <=50K  \n"
     ]
    }
   ],
   "source": [
    "# Load the excel file as a Pandas DataFrame object. Name it \"df\".\n",
    "# Display the first 5 rows of the DataFrame.\n",
    "df = None\n",
    "try:\n",
    "    df = pd.read_csv(\"adult.csv\")\n",
    "except FileNotFoundError:\n",
    "    try:\n",
    "        df = pd.read_excel(\"adult.xlsx\", sheet_name=\"in\")\n",
    "    except FileNotFoundError:\n",
    "        print(\"adult.xlsx or adult.csv not found\")\n",
    "        exit(1)\n",
    "\n",
    "print(df.head(5))"
   ]
  },
  {
   "cell_type": "code",
   "execution_count": 3,
   "metadata": {},
   "outputs": [
    {
     "name": "stdout",
     "output_type": "stream",
     "text": [
      "<class 'pandas.core.frame.DataFrame'>\n",
      "RangeIndex: 32561 entries, 0 to 32560\n",
      "Data columns (total 15 columns):\n",
      " #   Column          Non-Null Count  Dtype  \n",
      "---  ------          --------------  -----  \n",
      " 0   age             32560 non-null  float64\n",
      " 1   workclass       32561 non-null  object \n",
      " 2   fnlwgt          32561 non-null  int64  \n",
      " 3   education       32561 non-null  object \n",
      " 4   education-num   32561 non-null  int64  \n",
      " 5   marital-status  32561 non-null  object \n",
      " 6   occupation      32561 non-null  object \n",
      " 7   relatioship     32561 non-null  object \n",
      " 8   race            32561 non-null  object \n",
      " 9   sex             32561 non-null  object \n",
      " 10  capital-gain    32561 non-null  int64  \n",
      " 11  capital-loss    32561 non-null  int64  \n",
      " 12  hours-per-week  32561 non-null  int64  \n",
      " 13  native-country  32561 non-null  object \n",
      " 14  income          32561 non-null  object \n",
      "dtypes: float64(1), int64(5), object(9)\n",
      "memory usage: 3.7+ MB\n"
     ]
    }
   ],
   "source": [
    "# Display a summary of the dataset information.\n",
    "df.info()"
   ]
  },
  {
   "cell_type": "code",
   "execution_count": 4,
   "metadata": {},
   "outputs": [
    {
     "name": "stdout",
     "output_type": "stream",
     "text": [
      "workclass (9): [' State-gov' ' Self-emp-not-inc' ' Private' ' Federal-gov' ' Local-gov'\n",
      " ' ?' ' Self-emp-inc' ' Without-pay' ' Never-worked']\n",
      "education (16): [' Bachelors' ' HS-grad' ' 11th' ' Masters' ' 9th' ' Some-college'\n",
      " ' Assoc-acdm' ' Assoc-voc' ' 7th-8th' ' Doctorate' ' Prof-school'\n",
      " ' 5th-6th' ' 10th' ' 1st-4th' ' Preschool' ' 12th']\n",
      "marital-status (7): [' Never-married' ' Married-civ-spouse' ' Divorced'\n",
      " ' Married-spouse-absent' ' Separated' ' Married-AF-spouse' ' Widowed']\n",
      "occupation (15): [' Adm-clerical' ' Exec-managerial' ' Handlers-cleaners' ' Prof-specialty'\n",
      " ' Other-service' ' Sales' ' Craft-repair' ' Transport-moving'\n",
      " ' Farming-fishing' ' Machine-op-inspct' ' Tech-support' ' ?'\n",
      " ' Protective-serv' ' Armed-Forces' ' Priv-house-serv']\n",
      "relatioship (6): [' Not-in-family' ' Husband' ' Wife' ' Own-child' ' Unmarried'\n",
      " ' Other-relative']\n",
      "race (5): [' White' ' Black' ' Asian-Pac-Islander' ' Amer-Indian-Eskimo' ' Other']\n",
      "sex (2): [' Male' ' Female']\n",
      "native-country (42): [' United-States' ' Cuba' ' Jamaica' ' India' ' ?' ' Mexico' ' South'\n",
      " ' Puerto-Rico' ' Honduras' ' England' ' Canada' ' Germany' ' Iran'\n",
      " ' Philippines' ' Italy' ' Poland' ' Columbia' ' Cambodia' ' Thailand'\n",
      " ' Ecuador' ' Laos' ' Taiwan' ' Haiti' ' Portugal' ' Dominican-Republic'\n",
      " ' El-Salvador' ' France' ' Guatemala' ' China' ' Japan' ' Yugoslavia'\n",
      " ' Peru' ' Outlying-US(Guam-USVI-etc)' ' Scotland' ' Trinadad&Tobago'\n",
      " ' Greece' ' Nicaragua' ' Vietnam' ' Hong' ' Ireland' ' Hungary'\n",
      " ' Holand-Netherlands']\n",
      "income (2): [' <=50K' ' >50K']\n"
     ]
    }
   ],
   "source": [
    "# Display the number of categories and the list of categories for each categorical variable. For \n",
    "# example, for the categorical variable ‘sex’, display its two categories: ‘Male’ and ‘Female’\n",
    "category_df = df.select_dtypes(include='object')\n",
    "\n",
    "def print_categories(columns):\n",
    "    for column in columns:\n",
    "        print(f'{column} ({df[column].nunique()}): {df[column].unique()}')\n",
    "        \n",
    "print_categories(category_df.columns)"
   ]
  },
  {
   "cell_type": "markdown",
   "metadata": {},
   "source": [
    "## Data Pre-processing\n"
   ]
  },
  {
   "cell_type": "code",
   "execution_count": 5,
   "metadata": {},
   "outputs": [],
   "source": [
    "# Some columns may contain “?” values. Programmatically replace these \"?\" values with NaN values.\n",
    "# strip() is used to remove leading and trailing whitespaces.\n",
    "category_df = category_df.apply(lambda x: x.str.strip() if x.dtype == \"object\" else x)\n",
    "category_df = category_df.replace('?', None)\n",
    "\n",
    "missing_values = category_df.isnull().sum()\n",
    "missing_values = missing_values[missing_values > 0]"
   ]
  },
  {
   "cell_type": "code",
   "execution_count": 6,
   "metadata": {},
   "outputs": [
    {
     "name": "stdout",
     "output_type": "stream",
     "text": [
      "Feature (workclass): 1836 missing values. Imputed with (Private).\n",
      "Feature (occupation): 1843 missing values. Imputed with (Prof-specialty).\n",
      "Feature (native-country): 583 missing values. Imputed with (United-States).\n"
     ]
    }
   ],
   "source": [
    "# Impute the missing values with the mode value for categorical variables.\n",
    "for column in missing_values.index:\n",
    "    mode = category_df[column].mode()[0]\n",
    "    category_df[column] = category_df[column].fillna(mode)\n",
    "    print(f'Feature ({column}): {missing_values[column]} missing values. Imputed with ({mode}).')"
   ]
  },
  {
   "cell_type": "code",
   "execution_count": 7,
   "metadata": {},
   "outputs": [
    {
     "name": "stdout",
     "output_type": "stream",
     "text": [
      "    age  fnlwgt  education-num  capital-gain  capital-loss  hours-per-week  \\\n",
      "0   NaN   77516             13          2174             0              40   \n",
      "1  50.0   83311             13             0             0              13   \n",
      "2  38.0  215646              9             0             0              40   \n",
      "3  53.0  234721              7             0             0              40   \n",
      "4  28.0  338409             13             0             0              40   \n",
      "\n",
      "   workclass_Local-gov  workclass_Never-worked  workclass_Private  \\\n",
      "0                    0                       0                  0   \n",
      "1                    0                       0                  0   \n",
      "2                    0                       0                  1   \n",
      "3                    0                       0                  1   \n",
      "4                    0                       0                  1   \n",
      "\n",
      "   workclass_Self-emp-inc  ...  native-country_Puerto-Rico  \\\n",
      "0                       0  ...                           0   \n",
      "1                       0  ...                           0   \n",
      "2                       0  ...                           0   \n",
      "3                       0  ...                           0   \n",
      "4                       0  ...                           0   \n",
      "\n",
      "   native-country_Scotland  native-country_South  native-country_Taiwan  \\\n",
      "0                        0                     0                      0   \n",
      "1                        0                     0                      0   \n",
      "2                        0                     0                      0   \n",
      "3                        0                     0                      0   \n",
      "4                        0                     0                      0   \n",
      "\n",
      "   native-country_Thailand  native-country_Trinadad&Tobago  \\\n",
      "0                        0                               0   \n",
      "1                        0                               0   \n",
      "2                        0                               0   \n",
      "3                        0                               0   \n",
      "4                        0                               0   \n",
      "\n",
      "   native-country_United-States  native-country_Vietnam  \\\n",
      "0                             1                       0   \n",
      "1                             1                       0   \n",
      "2                             1                       0   \n",
      "3                             1                       0   \n",
      "4                             0                       0   \n",
      "\n",
      "   native-country_Yugoslavia  income_>50K  \n",
      "0                          0            0  \n",
      "1                          0            0  \n",
      "2                          0            0  \n",
      "3                          0            0  \n",
      "4                          0            0  \n",
      "\n",
      "[5 rows x 98 columns]\n"
     ]
    }
   ],
   "source": [
    "# One-hot encode the categorical features and combine the one-hot encoded features with the non-\n",
    "# categorical columns. Ensure that only (n-1) columns are added for a categorical variable with n \n",
    "# categories. The DataFrame object “df” should include all one-hot encoded and non-categorical \n",
    "# features. Finally, display the first five rows of the modified “df\n",
    "onehot_df = pd.get_dummies(category_df, drop_first=True).astype(int)\n",
    "df = df.drop(columns=category_df.columns)\n",
    "df = pd.concat([df, onehot_df], axis=1)\n",
    "print(df.head(5))"
   ]
  },
  {
   "cell_type": "code",
   "execution_count": 8,
   "metadata": {},
   "outputs": [
    {
     "name": "stdout",
     "output_type": "stream",
     "text": [
      "Index: Feature Name\n",
      "0: age\n",
      "1: fnlwgt\n",
      "2: education-num\n",
      "3: capital-gain\n",
      "4: capital-loss\n",
      "5: hours-per-week\n",
      "6: workclass_Local-gov\n",
      "7: workclass_Never-worked\n",
      "8: workclass_Private\n",
      "9: workclass_Self-emp-inc\n",
      "10: workclass_Self-emp-not-inc\n",
      "11: workclass_State-gov\n",
      "12: workclass_Without-pay\n",
      "13: education_11th\n",
      "14: education_12th\n",
      "15: education_1st-4th\n",
      "16: education_5th-6th\n",
      "17: education_7th-8th\n",
      "18: education_9th\n",
      "19: education_Assoc-acdm\n",
      "20: education_Assoc-voc\n",
      "21: education_Bachelors\n",
      "22: education_Doctorate\n",
      "23: education_HS-grad\n",
      "24: education_Masters\n",
      "25: education_Preschool\n",
      "26: education_Prof-school\n",
      "27: education_Some-college\n",
      "28: marital-status_Married-AF-spouse\n",
      "29: marital-status_Married-civ-spouse\n",
      "30: marital-status_Married-spouse-absent\n",
      "31: marital-status_Never-married\n",
      "32: marital-status_Separated\n",
      "33: marital-status_Widowed\n",
      "34: occupation_Armed-Forces\n",
      "35: occupation_Craft-repair\n",
      "36: occupation_Exec-managerial\n",
      "37: occupation_Farming-fishing\n",
      "38: occupation_Handlers-cleaners\n",
      "39: occupation_Machine-op-inspct\n",
      "40: occupation_Other-service\n",
      "41: occupation_Priv-house-serv\n",
      "42: occupation_Prof-specialty\n",
      "43: occupation_Protective-serv\n",
      "44: occupation_Sales\n",
      "45: occupation_Tech-support\n",
      "46: occupation_Transport-moving\n",
      "47: relatioship_Not-in-family\n",
      "48: relatioship_Other-relative\n",
      "49: relatioship_Own-child\n",
      "50: relatioship_Unmarried\n",
      "51: relatioship_Wife\n",
      "52: race_Asian-Pac-Islander\n",
      "53: race_Black\n",
      "54: race_Other\n",
      "55: race_White\n",
      "56: sex_Male\n",
      "57: native-country_Canada\n",
      "58: native-country_China\n",
      "59: native-country_Columbia\n",
      "60: native-country_Cuba\n",
      "61: native-country_Dominican-Republic\n",
      "62: native-country_Ecuador\n",
      "63: native-country_El-Salvador\n",
      "64: native-country_England\n",
      "65: native-country_France\n",
      "66: native-country_Germany\n",
      "67: native-country_Greece\n",
      "68: native-country_Guatemala\n",
      "69: native-country_Haiti\n",
      "70: native-country_Holand-Netherlands\n",
      "71: native-country_Honduras\n",
      "72: native-country_Hong\n",
      "73: native-country_Hungary\n",
      "74: native-country_India\n",
      "75: native-country_Iran\n",
      "76: native-country_Ireland\n",
      "77: native-country_Italy\n",
      "78: native-country_Jamaica\n",
      "79: native-country_Japan\n",
      "80: native-country_Laos\n",
      "81: native-country_Mexico\n",
      "82: native-country_Nicaragua\n",
      "83: native-country_Outlying-US(Guam-USVI-etc)\n",
      "84: native-country_Peru\n",
      "85: native-country_Philippines\n",
      "86: native-country_Poland\n",
      "87: native-country_Portugal\n",
      "88: native-country_Puerto-Rico\n",
      "89: native-country_Scotland\n",
      "90: native-country_South\n",
      "91: native-country_Taiwan\n",
      "92: native-country_Thailand\n",
      "93: native-country_Trinadad&Tobago\n",
      "94: native-country_United-States\n",
      "95: native-country_Vietnam\n",
      "96: native-country_Yugoslavia\n",
      "97: income_>50K\n"
     ]
    }
   ],
   "source": [
    "# Display a list of the feature names along with their indices. \n",
    "# For example, the first feature (index 0) is “age”.\n",
    "print(\"Index: Feature Name\")\n",
    "for i, column in enumerate(df.columns):\n",
    "    print(f'{i}: {column}')"
   ]
  },
  {
   "cell_type": "code",
   "execution_count": 9,
   "metadata": {},
   "outputs": [
    {
     "name": "stdout",
     "output_type": "stream",
     "text": [
      "0    0\n",
      "1    0\n",
      "2    0\n",
      "3    0\n",
      "4    0\n",
      "Name: income_>50K, dtype: int32\n"
     ]
    },
    {
     "data": {
      "image/png": "[encoded data removed]",
      "text/plain": [
       "<Figure size 640x480 with 1 Axes>"
      ]
     },
     "metadata": {},
     "output_type": "display_data"
    }
   ],
   "source": [
    "# Display the first five values of the binary target column (0s and 1s). Create a histogram of the\n",
    "# target column (i.e., income_>50K).\n",
    "print(df['income_>50K'].head(5))\n",
    "df['income_>50K'].hist(edgecolor='black', rwidth=1)\n",
    "plt.title('Income > 50K')\n",
    "plt.xlabel('Income > 50K (0 = No, 1 = Yes)')\n",
    "plt.ylabel('Frequency')\n",
    "plt.show()"
   ]
  },
  {
   "cell_type": "code",
   "execution_count": 10,
   "metadata": {},
   "outputs": [
    {
     "name": "stdout",
     "output_type": "stream",
     "text": [
      "Feature (age): 1 missing values\n"
     ]
    }
   ],
   "source": [
    "# Identify the features (columns) with missing values in the “df”. For each feature with missing\n",
    "# values, display the total count of missing values.\n",
    "missing_values = df.isnull().sum()\n",
    "missing_values = missing_values[missing_values > 0]\n",
    "for column in missing_values.index:\n",
    "    print(f'Feature ({column}): {missing_values[column]} missing values')"
   ]
  },
  {
   "cell_type": "code",
   "execution_count": 12,
   "metadata": {},
   "outputs": [
    {
     "name": "stdout",
     "output_type": "stream",
     "text": [
      "Feature (age): 1 missing values. Imputed with (37.0).\n",
      "----------------------\n",
      "    age  fnlwgt  education-num  capital-gain  capital-loss  hours-per-week  \\\n",
      "0  37.0   77516             13          2174             0              40   \n",
      "1  50.0   83311             13             0             0              13   \n",
      "2  38.0  215646              9             0             0              40   \n",
      "3  53.0  234721              7             0             0              40   \n",
      "4  28.0  338409             13             0             0              40   \n",
      "\n",
      "   workclass_Local-gov  workclass_Never-worked  workclass_Private  \\\n",
      "0                    0                       0                  0   \n",
      "1                    0                       0                  0   \n",
      "2                    0                       0                  1   \n",
      "3                    0                       0                  1   \n",
      "4                    0                       0                  1   \n",
      "\n",
      "   workclass_Self-emp-inc  ...  native-country_Puerto-Rico  \\\n",
      "0                       0  ...                           0   \n",
      "1                       0  ...                           0   \n",
      "2                       0  ...                           0   \n",
      "3                       0  ...                           0   \n",
      "4                       0  ...                           0   \n",
      "\n",
      "   native-country_Scotland  native-country_South  native-country_Taiwan  \\\n",
      "0                        0                     0                      0   \n",
      "1                        0                     0                      0   \n",
      "2                        0                     0                      0   \n",
      "3                        0                     0                      0   \n",
      "4                        0                     0                      0   \n",
      "\n",
      "   native-country_Thailand  native-country_Trinadad&Tobago  \\\n",
      "0                        0                               0   \n",
      "1                        0                               0   \n",
      "2                        0                               0   \n",
      "3                        0                               0   \n",
      "4                        0                               0   \n",
      "\n",
      "   native-country_United-States  native-country_Vietnam  \\\n",
      "0                             1                       0   \n",
      "1                             1                       0   \n",
      "2                             1                       0   \n",
      "3                             1                       0   \n",
      "4                             0                       0   \n",
      "\n",
      "   native-country_Yugoslavia  income_>50K  \n",
      "0                          0            0  \n",
      "1                          0            0  \n",
      "2                          0            0  \n",
      "3                          0            0  \n",
      "4                          0            0  \n",
      "\n",
      "[5 rows x 98 columns]\n"
     ]
    }
   ],
   "source": [
    "# Replace the missing values in each feature with the median value. First, compute the median of\n",
    "# each feature. Then, replace the missing values with these medians. Display the first five rows of\n",
    "# the modified “df”.\n",
    "for column in missing_values.index:\n",
    "    median = df[column].median()\n",
    "    df[column] = df[column].fillna(median)\n",
    "    print(f'Feature ({column}): {missing_values[column]} missing values. Imputed with ({median}).')\n",
    "\n",
    "print(\"----------------------\")\n",
    "print(df.head(5))"
   ]
  },
  {
   "cell_type": "markdown",
   "metadata": {},
   "source": [
    "## Data Analysis"
   ]
  },
  {
   "cell_type": "code",
   "execution_count": null,
   "metadata": {},
   "outputs": [],
   "source": [
    "# Compute the Pearson correlation coefficient (also known as the standard correlation coefficient)\n",
    "# between the binary target and all features. Display the complete list of correlations.\n",
    "def homebrew_pearson(x, y):\n",
    "    x_mean = x.mean()\n",
    "    y_mean = y.mean()\n",
    "    x_diff = x - x_mean\n",
    "    y_diff = y - y_mean\n",
    "    numerator = (x_diff * y_diff).sum()\n",
    "    denominator = np.sqrt((x_diff**2).sum() * (y_diff**2).sum())\n",
    "    return numerator / denominator\n",
    "\n",
    "for column in df.columns:\n",
    "    hb_correlation = homebrew_pearson(df[column], df['income_>50K'])\n",
    "    correlation = df[column].corr(df['income_>50K'])\n",
    "    print(f'{column}: {correlation} (Homebrew: {hb_correlation})')"
   ]
  },
  {
   "cell_type": "markdown",
   "metadata": {},
   "source": [
    "## Create Data Matrix X and Target y"
   ]
  },
  {
   "cell_type": "code",
   "execution_count": 17,
   "metadata": {},
   "outputs": [],
   "source": [
    "# Create a deep copy of the DataFrame object using the copy() method of DataFrame. Name it as\n",
    "# “df_main”. You will need it for Experiment 5.\n",
    "df_main = df.copy()"
   ]
  },
  {
   "cell_type": "code",
   "execution_count": 18,
   "metadata": {},
   "outputs": [],
   "source": [
    "# From “df”, create separate DataFrame objects for the features and the target.\n",
    "X = df.drop(columns='income_>50K')\n",
    "y = df['income_>50K']"
   ]
  },
  {
   "cell_type": "code",
   "execution_count": 19,
   "metadata": {},
   "outputs": [],
   "source": [
    "# Convert the feature and target DataFrame objects into NumPy arrays (X for the feature matrix and\n",
    "# Y for the target matrix).\n",
    "X = X.to_numpy()\n",
    "y = y.to_numpy()"
   ]
  },
  {
   "cell_type": "code",
   "execution_count": 20,
   "metadata": {},
   "outputs": [
    {
     "name": "stdout",
     "output_type": "stream",
     "text": [
      "X: (32561, 97), float64\n",
      "y: (32561,), int32\n"
     ]
    }
   ],
   "source": [
    "# Display the shape and data type of the feature and target arrays.\n",
    "print(f'X: {X.shape}, {X.dtype}')\n",
    "print(f'y: {y.shape}, {y.dtype}')"
   ]
  },
  {
   "cell_type": "code",
   "execution_count": 32,
   "metadata": {},
   "outputs": [
    {
     "name": "stdout",
     "output_type": "stream",
     "text": [
      "[0 1] [24720  7841]\n"
     ]
    },
    {
     "data": {
      "image/png": "[encoded data removed]",
      "text/plain": [
       "<Figure size 800x800 with 1 Axes>"
      ]
     },
     "metadata": {},
     "output_type": "display_data"
    }
   ],
   "source": [
    "# Create a bar plot for the new target array to show the distribution of samples in the two classes.\n",
    "# You must use NumPy arrays to create the plot and are not allowed to use DataFrame methods.\n",
    "# Label the vertical axis as “Number of Instances”. Display the class labels (“high” or “low”) at\n",
    "# the bottom of each bar on the horizontal axis. The title of the figure should be “Distribution of\n",
    "# Classes”, and the figure dimensions should be (8, 8).\n",
    "unique, counts = np.unique(y, return_counts=True)\n",
    "print(unique, counts)\n",
    "plt.figure(figsize=(8, 8))\n",
    "plt.bar(['low', 'high'], counts)\n",
    "plt.ylabel('Number of Instances')\n",
    "plt.title('Distribution of Classes')\n",
    "plt.show()"
   ]
  },
  {
   "cell_type": "markdown",
   "metadata": {},
   "source": [
    "## Partition the Dataset into Train & Test Subsets"
   ]
  },
  {
   "cell_type": "code",
   "execution_count": 33,
   "metadata": {},
   "outputs": [],
   "source": [
    "# Partition the dataset into training & test subsets: 80% training & 20% test (you may use\n",
    "# Scikit-Learn’s train_test_split() function)\n",
    "from sklearn.model_selection import train_test_split\n",
    "X_train, X_test, y_train, y_test = train_test_split(X, y, test_size=0.2, random_state=42)"
   ]
  },
  {
   "cell_type": "markdown",
   "metadata": {},
   "source": [
    "## Standardize the Data"
   ]
  },
  {
   "cell_type": "code",
   "execution_count": null,
   "metadata": {},
   "outputs": [],
   "source": []
  },
  {
   "cell_type": "markdown",
   "metadata": {},
   "source": [
    "## Model Selection"
   ]
  },
  {
   "cell_type": "code",
   "execution_count": null,
   "metadata": {},
   "outputs": [],
   "source": [
    "%%time\n",
    "\n"
   ]
  },
  {
   "cell_type": "markdown",
   "metadata": {},
   "source": [
    "## Train a Model Using Optimal Hyperparameters"
   ]
  },
  {
   "cell_type": "code",
   "execution_count": null,
   "metadata": {},
   "outputs": [],
   "source": [
    "%%time"
   ]
  },
  {
   "cell_type": "markdown",
   "metadata": {},
   "source": [
    "## Evaluate the Model "
   ]
  },
  {
   "cell_type": "code",
   "execution_count": null,
   "metadata": {},
   "outputs": [],
   "source": [
    "%%time\n",
    "\n"
   ]
  }
 ],
 "metadata": {
  "kernelspec": {
   "display_name": "Python 3 (ipykernel)",
   "language": "python",
   "name": "python3"
  },
  "language_info": {
   "codemirror_mode": {
    "name": "ipython",
    "version": 3
   },
   "file_extension": ".py",
   "mimetype": "text/x-python",
   "name": "python",
   "nbconvert_exporter": "python",
   "pygments_lexer": "ipython3",
   "version": "3.10.13"
  }
 },
 "nbformat": 4,
 "nbformat_minor": 2
}
