{
 "cells": [
  {
   "cell_type": "markdown",
   "metadata": {},
   "source": [
    "# Assignment 1: Dataset Exploration and A Study of the k-Nearest Neighbors Model\n",
    "\n",
    "### Task/Problem Statement: \n",
    "The goal of this assignment is to explore a dataset and study the k-Nearest Neighbors (kNN) model\n",
    "  for classification.\n",
    "- Part A: Performance optimization via data standardization, feature selection, & varying \n",
    "  threshold for a structured dataset\n",
    "\n",
    "### Dataset: UCI Adult Income (\"Census Income\") Dataset\n",
    "The UCI Adult Income Dataset (also known as the “Census Income” dataset) adult.csv comprises 14\n",
    "attributes including categorical and numerical features. The target “income” class is a binary\n",
    "variable (<=50K, >50K). The prediction task is to determine whether a person makes over 50K a year.\n",
    "\n",
    "Data provided in adult.xlsx comprises 14 attributes including categorical and numerical features.\n",
    "The target “income” class is a binary variable (<=50K, >50K).\n",
    "\n",
    "##### Source: https://archive.ics.uci.edu/dataset/2/adult\n",
    "\n",
    "##### Input variables:\n",
    "- age\n",
    "- workclass\n",
    "- fnlwgt\n",
    "- education\n",
    "- education-num\n",
    "- marital-status\n",
    "- occupation\n",
    "- relatioship\n",
    "- race\n",
    "- sex\n",
    "- capital-gain\n",
    "- capital-loss\n",
    "- hours-per-week\n",
    "- native-country\n",
    "\n",
    "##### Output variable: \n",
    "- Income (<=50K, >50K)\n",
    "\n",
    "\n"
   ]
  },
  {
   "cell_type": "code",
   "execution_count": 2,
   "metadata": {},
   "outputs": [],
   "source": [
    "import pandas as pd\n",
    "import numpy as np\n",
    "import matplotlib.pyplot as plt\n",
    "from sklearn.model_selection import train_test_split\n",
    "from sklearn.neighbors import KNeighborsClassifier\n",
    "from sklearn.model_selection import GridSearchCV\n",
    "from sklearn.preprocessing import StandardScaler\n",
    "from sklearn.metrics import accuracy_score, precision_score, recall_score, f1_score\n",
    "from sklearn.metrics import confusion_matrix\n",
    "from sklearn.metrics import roc_curve, auc, precision_recall_curve"
   ]
  },
  {
   "cell_type": "markdown",
   "metadata": {},
   "source": [
    "## Load Data & Display Dataset Information"
   ]
  },
  {
   "cell_type": "markdown",
   "metadata": {},
   "source": [
    "Load the excel file as a Pandas DataFrame object. Name it \"df\". Display the first 5 rows of the DataFrame."
   ]
  },
  {
   "cell_type": "code",
   "execution_count": 3,
   "metadata": {},
   "outputs": [
    {
     "name": "stdout",
     "output_type": "stream",
     "text": [
      "    age          workclass  fnlwgt   education  education-num  \\\n",
      "0   NaN          State-gov   77516   Bachelors             13   \n",
      "1  50.0   Self-emp-not-inc   83311   Bachelors             13   \n",
      "2  38.0            Private  215646     HS-grad              9   \n",
      "3  53.0            Private  234721        11th              7   \n",
      "4  28.0            Private  338409   Bachelors             13   \n",
      "\n",
      "        marital-status          occupation     relatioship    race      sex  \\\n",
      "0        Never-married        Adm-clerical   Not-in-family   White     Male   \n",
      "1   Married-civ-spouse     Exec-managerial         Husband   White     Male   \n",
      "2             Divorced   Handlers-cleaners   Not-in-family   White     Male   \n",
      "3   Married-civ-spouse   Handlers-cleaners         Husband   Black     Male   \n",
      "4   Married-civ-spouse      Prof-specialty            Wife   Black   Female   \n",
      "\n",
      "   capital-gain  capital-loss  hours-per-week  native-country  income  \n",
      "0          2174             0              40   United-States   <=50K  \n",
      "1             0             0              13   United-States   <=50K  \n",
      "2             0             0              40   United-States   <=50K  \n",
      "3             0             0              40   United-States   <=50K  \n",
      "4             0             0              40            Cuba   <=50K  \n"
     ]
    }
   ],
   "source": [
    "df = None\n",
    "\n",
    "# the following try-except block tries to handle alternate file types for the data\n",
    "try:\n",
    "    df = pd.read_csv(\"adult.csv\")\n",
    "except FileNotFoundError:\n",
    "    try:\n",
    "        df = pd.read_excel(\"adult.xlsx\", sheet_name=\"in\")\n",
    "    except FileNotFoundError:\n",
    "        print(\"adult.xlsx or adult.csv not found\")\n",
    "        exit(1)\n",
    "\n",
    "print(df.head(5))"
   ]
  },
  {
   "cell_type": "code",
   "execution_count": 4,
   "metadata": {},
   "outputs": [
    {
     "name": "stdout",
     "output_type": "stream",
     "text": [
      "<class 'pandas.core.frame.DataFrame'>\n",
      "RangeIndex: 32561 entries, 0 to 32560\n",
      "Data columns (total 15 columns):\n",
      " #   Column          Non-Null Count  Dtype  \n",
      "---  ------          --------------  -----  \n",
      " 0   age             32560 non-null  float64\n",
      " 1   workclass       32561 non-null  object \n",
      " 2   fnlwgt          32561 non-null  int64  \n",
      " 3   education       32561 non-null  object \n",
      " 4   education-num   32561 non-null  int64  \n",
      " 5   marital-status  32561 non-null  object \n",
      " 6   occupation      32561 non-null  object \n",
      " 7   relatioship     32561 non-null  object \n",
      " 8   race            32561 non-null  object \n",
      " 9   sex             32561 non-null  object \n",
      " 10  capital-gain    32561 non-null  int64  \n",
      " 11  capital-loss    32561 non-null  int64  \n",
      " 12  hours-per-week  32561 non-null  int64  \n",
      " 13  native-country  32561 non-null  object \n",
      " 14  income          32561 non-null  object \n",
      "dtypes: float64(1), int64(5), object(9)\n",
      "memory usage: 3.7+ MB\n"
     ]
    }
   ],
   "source": [
    "# Display a summary of the dataset information.\n",
    "df.info()"
   ]
  },
  {
   "cell_type": "markdown",
   "metadata": {},
   "source": [
    "Display the number of categories and the list of categories for each categorical variable. For \n",
    "example, for the categorical variable ‘sex’, display its two categories: ‘Male’ and ‘Female’"
   ]
  },
  {
   "cell_type": "code",
   "execution_count": 5,
   "metadata": {},
   "outputs": [
    {
     "name": "stdout",
     "output_type": "stream",
     "text": [
      "workclass (9): [' State-gov' ' Self-emp-not-inc' ' Private' ' Federal-gov' ' Local-gov'\n",
      " ' ?' ' Self-emp-inc' ' Without-pay' ' Never-worked']\n",
      "education (16): [' Bachelors' ' HS-grad' ' 11th' ' Masters' ' 9th' ' Some-college'\n",
      " ' Assoc-acdm' ' Assoc-voc' ' 7th-8th' ' Doctorate' ' Prof-school'\n",
      " ' 5th-6th' ' 10th' ' 1st-4th' ' Preschool' ' 12th']\n",
      "marital-status (7): [' Never-married' ' Married-civ-spouse' ' Divorced'\n",
      " ' Married-spouse-absent' ' Separated' ' Married-AF-spouse' ' Widowed']\n",
      "occupation (15): [' Adm-clerical' ' Exec-managerial' ' Handlers-cleaners' ' Prof-specialty'\n",
      " ' Other-service' ' Sales' ' Craft-repair' ' Transport-moving'\n",
      " ' Farming-fishing' ' Machine-op-inspct' ' Tech-support' ' ?'\n",
      " ' Protective-serv' ' Armed-Forces' ' Priv-house-serv']\n",
      "relatioship (6): [' Not-in-family' ' Husband' ' Wife' ' Own-child' ' Unmarried'\n",
      " ' Other-relative']\n",
      "race (5): [' White' ' Black' ' Asian-Pac-Islander' ' Amer-Indian-Eskimo' ' Other']\n",
      "sex (2): [' Male' ' Female']\n",
      "native-country (42): [' United-States' ' Cuba' ' Jamaica' ' India' ' ?' ' Mexico' ' South'\n",
      " ' Puerto-Rico' ' Honduras' ' England' ' Canada' ' Germany' ' Iran'\n",
      " ' Philippines' ' Italy' ' Poland' ' Columbia' ' Cambodia' ' Thailand'\n",
      " ' Ecuador' ' Laos' ' Taiwan' ' Haiti' ' Portugal' ' Dominican-Republic'\n",
      " ' El-Salvador' ' France' ' Guatemala' ' China' ' Japan' ' Yugoslavia'\n",
      " ' Peru' ' Outlying-US(Guam-USVI-etc)' ' Scotland' ' Trinadad&Tobago'\n",
      " ' Greece' ' Nicaragua' ' Vietnam' ' Hong' ' Ireland' ' Hungary'\n",
      " ' Holand-Netherlands']\n",
      "income (2): [' <=50K' ' >50K']\n"
     ]
    }
   ],
   "source": [
    "# seems like a good place to temporarily break out a seperate DataFrame for the categorical data\n",
    "category_df = df.select_dtypes(include='object')\n",
    "\n",
    "def print_categories(columns):\n",
    "    '''\n",
    "    Simple function to print the categorical data in standard formatted manner.\n",
    "    '''\n",
    "    for column in columns:\n",
    "        print(f'{column} ({df[column].nunique()}): {df[column].unique()}')\n",
    "        \n",
    "print_categories(category_df.columns)"
   ]
  },
  {
   "cell_type": "markdown",
   "metadata": {},
   "source": [
    "## Data Pre-processing\n"
   ]
  },
  {
   "cell_type": "markdown",
   "metadata": {},
   "source": [
    "Some columns may contain “?” values. Programmatically replace these \"?\" values with NaN values.\n",
    "strip() is used to remove leading and trailing whitespaces."
   ]
  },
  {
   "cell_type": "code",
   "execution_count": 6,
   "metadata": {},
   "outputs": [],
   "source": [
    "category_df = category_df.apply(lambda x: x.str.strip() if x.dtype == \"object\" else x)\n",
    "category_df = category_df.replace('?', None)\n",
    "\n",
    "missing_values = category_df.isnull().sum()\n",
    "missing_values = missing_values[missing_values > 0]"
   ]
  },
  {
   "cell_type": "markdown",
   "metadata": {},
   "source": [
    "Impute the missing values with the mode value for categorical variables. This is slightly different\n",
    "than the instructions which assume that cleaning up the redundancies will handle the missing values.\n",
    "However, this will just assign the missing values with whichever categorical class is redundant.\n",
    "Using the mode value seems to provide a more systematic approach to imputing the missing values."
   ]
  },
  {
   "cell_type": "code",
   "execution_count": 7,
   "metadata": {},
   "outputs": [
    {
     "name": "stdout",
     "output_type": "stream",
     "text": [
      "Feature (workclass): 1836 missing values. Imputed with (Private).\n",
      "Feature (occupation): 1843 missing values. Imputed with (Prof-specialty).\n",
      "Feature (native-country): 583 missing values. Imputed with (United-States).\n"
     ]
    }
   ],
   "source": [
    "for column in missing_values.index:\n",
    "    mode = category_df[column].mode()[0]\n",
    "    category_df[column] = category_df[column].fillna(mode)\n",
    "    print(f'Feature ({column}): {missing_values[column]} missing values. Imputed with ({mode}).')"
   ]
  },
  {
   "cell_type": "markdown",
   "metadata": {},
   "source": [
    "One-hot encode the categorical features and combine the one-hot encoded features with the non-\n",
    "categorical columns. Ensure that only (n-1) columns are added for a categorical variable with n \n",
    "categories. The DataFrame object “df” should include all one-hot encoded and non-categorical \n",
    "features. Finally, display the first five rows of the modified “df\"."
   ]
  },
  {
   "cell_type": "code",
   "execution_count": 8,
   "metadata": {},
   "outputs": [
    {
     "name": "stdout",
     "output_type": "stream",
     "text": [
      "    age  fnlwgt  education-num  capital-gain  capital-loss  hours-per-week  \\\n",
      "0   NaN   77516             13          2174             0              40   \n",
      "1  50.0   83311             13             0             0              13   \n",
      "2  38.0  215646              9             0             0              40   \n",
      "3  53.0  234721              7             0             0              40   \n",
      "4  28.0  338409             13             0             0              40   \n",
      "\n",
      "   workclass_Local-gov  workclass_Never-worked  workclass_Private  \\\n",
      "0                    0                       0                  0   \n",
      "1                    0                       0                  0   \n",
      "2                    0                       0                  1   \n",
      "3                    0                       0                  1   \n",
      "4                    0                       0                  1   \n",
      "\n",
      "   workclass_Self-emp-inc  ...  native-country_Puerto-Rico  \\\n",
      "0                       0  ...                           0   \n",
      "1                       0  ...                           0   \n",
      "2                       0  ...                           0   \n",
      "3                       0  ...                           0   \n",
      "4                       0  ...                           0   \n",
      "\n",
      "   native-country_Scotland  native-country_South  native-country_Taiwan  \\\n",
      "0                        0                     0                      0   \n",
      "1                        0                     0                      0   \n",
      "2                        0                     0                      0   \n",
      "3                        0                     0                      0   \n",
      "4                        0                     0                      0   \n",
      "\n",
      "   native-country_Thailand  native-country_Trinadad&Tobago  \\\n",
      "0                        0                               0   \n",
      "1                        0                               0   \n",
      "2                        0                               0   \n",
      "3                        0                               0   \n",
      "4                        0                               0   \n",
      "\n",
      "   native-country_United-States  native-country_Vietnam  \\\n",
      "0                             1                       0   \n",
      "1                             1                       0   \n",
      "2                             1                       0   \n",
      "3                             1                       0   \n",
      "4                             0                       0   \n",
      "\n",
      "   native-country_Yugoslavia  income_>50K  \n",
      "0                          0            0  \n",
      "1                          0            0  \n",
      "2                          0            0  \n",
      "3                          0            0  \n",
      "4                          0            0  \n",
      "\n",
      "[5 rows x 98 columns]\n"
     ]
    }
   ],
   "source": [
    "onehot_df = pd.get_dummies(category_df, drop_first=True).astype(int)\n",
    "df = df.drop(columns=category_df.columns)\n",
    "df = pd.concat([df, onehot_df], axis=1)\n",
    "print(df.head(5))"
   ]
  },
  {
   "cell_type": "markdown",
   "metadata": {},
   "source": [
    "Display a list of the feature names along with their indices.  For example, the first feature (index\n",
    " 0) is “age”."
   ]
  },
  {
   "cell_type": "code",
   "execution_count": 9,
   "metadata": {},
   "outputs": [
    {
     "name": "stdout",
     "output_type": "stream",
     "text": [
      "Index: Feature Name\n",
      "0: age\n",
      "1: fnlwgt\n",
      "2: education-num\n",
      "3: capital-gain\n",
      "4: capital-loss\n",
      "5: hours-per-week\n",
      "6: workclass_Local-gov\n",
      "7: workclass_Never-worked\n",
      "8: workclass_Private\n",
      "9: workclass_Self-emp-inc\n",
      "10: workclass_Self-emp-not-inc\n",
      "11: workclass_State-gov\n",
      "12: workclass_Without-pay\n",
      "13: education_11th\n",
      "14: education_12th\n",
      "15: education_1st-4th\n",
      "16: education_5th-6th\n",
      "17: education_7th-8th\n",
      "18: education_9th\n",
      "19: education_Assoc-acdm\n",
      "20: education_Assoc-voc\n",
      "21: education_Bachelors\n",
      "22: education_Doctorate\n",
      "23: education_HS-grad\n",
      "24: education_Masters\n",
      "25: education_Preschool\n",
      "26: education_Prof-school\n",
      "27: education_Some-college\n",
      "28: marital-status_Married-AF-spouse\n",
      "29: marital-status_Married-civ-spouse\n",
      "30: marital-status_Married-spouse-absent\n",
      "31: marital-status_Never-married\n",
      "32: marital-status_Separated\n",
      "33: marital-status_Widowed\n",
      "34: occupation_Armed-Forces\n",
      "35: occupation_Craft-repair\n",
      "36: occupation_Exec-managerial\n",
      "37: occupation_Farming-fishing\n",
      "38: occupation_Handlers-cleaners\n",
      "39: occupation_Machine-op-inspct\n",
      "40: occupation_Other-service\n",
      "41: occupation_Priv-house-serv\n",
      "42: occupation_Prof-specialty\n",
      "43: occupation_Protective-serv\n",
      "44: occupation_Sales\n",
      "45: occupation_Tech-support\n",
      "46: occupation_Transport-moving\n",
      "47: relatioship_Not-in-family\n",
      "48: relatioship_Other-relative\n",
      "49: relatioship_Own-child\n",
      "50: relatioship_Unmarried\n",
      "51: relatioship_Wife\n",
      "52: race_Asian-Pac-Islander\n",
      "53: race_Black\n",
      "54: race_Other\n",
      "55: race_White\n",
      "56: sex_Male\n",
      "57: native-country_Canada\n",
      "58: native-country_China\n",
      "59: native-country_Columbia\n",
      "60: native-country_Cuba\n",
      "61: native-country_Dominican-Republic\n",
      "62: native-country_Ecuador\n",
      "63: native-country_El-Salvador\n",
      "64: native-country_England\n",
      "65: native-country_France\n",
      "66: native-country_Germany\n",
      "67: native-country_Greece\n",
      "68: native-country_Guatemala\n",
      "69: native-country_Haiti\n",
      "70: native-country_Holand-Netherlands\n",
      "71: native-country_Honduras\n",
      "72: native-country_Hong\n",
      "73: native-country_Hungary\n",
      "74: native-country_India\n",
      "75: native-country_Iran\n",
      "76: native-country_Ireland\n",
      "77: native-country_Italy\n",
      "78: native-country_Jamaica\n",
      "79: native-country_Japan\n",
      "80: native-country_Laos\n",
      "81: native-country_Mexico\n",
      "82: native-country_Nicaragua\n",
      "83: native-country_Outlying-US(Guam-USVI-etc)\n",
      "84: native-country_Peru\n",
      "85: native-country_Philippines\n",
      "86: native-country_Poland\n",
      "87: native-country_Portugal\n",
      "88: native-country_Puerto-Rico\n",
      "89: native-country_Scotland\n",
      "90: native-country_South\n",
      "91: native-country_Taiwan\n",
      "92: native-country_Thailand\n",
      "93: native-country_Trinadad&Tobago\n",
      "94: native-country_United-States\n",
      "95: native-country_Vietnam\n",
      "96: native-country_Yugoslavia\n",
      "97: income_>50K\n"
     ]
    }
   ],
   "source": [
    "df_column_names = df.columns # cache these to a variable for use later with feature selector\n",
    "\n",
    "print(\"Index: Feature Name\")\n",
    "for i, column in enumerate(df_column_names):\n",
    "    print(f'{i}: {column}')"
   ]
  },
  {
   "cell_type": "markdown",
   "metadata": {},
   "source": [
    "Display the first five values of the binary target column (0s and 1s). Create a histogram of the\n",
    "target column (i.e., income_>50K)."
   ]
  },
  {
   "cell_type": "code",
   "execution_count": 10,
   "metadata": {},
   "outputs": [
    {
     "name": "stdout",
     "output_type": "stream",
     "text": [
      "0    0\n",
      "1    0\n",
      "2    0\n",
      "3    0\n",
      "4    0\n",
      "Name: income_>50K, dtype: int32\n"
     ]
    },
    {
     "data": {
      "image/png": "[encoded data removed]",
      "text/plain": [
       "<Figure size 640x480 with 1 Axes>"
      ]
     },
     "metadata": {},
     "output_type": "display_data"
    }
   ],
   "source": [
    "print(df['income_>50K'].head(5))\n",
    "df['income_>50K'].hist(edgecolor='black', rwidth=1)\n",
    "plt.title('Income > 50K')\n",
    "plt.xlabel('Income > 50K (0 = No, 1 = Yes)')\n",
    "plt.ylabel('Frequency')\n",
    "plt.show()"
   ]
  },
  {
   "cell_type": "markdown",
   "metadata": {},
   "source": [
    "Identify the features (columns) with missing values in the “df”. For each feature with missing\n",
    "values, display the total count of missing values."
   ]
  },
  {
   "cell_type": "code",
   "execution_count": 11,
   "metadata": {},
   "outputs": [
    {
     "name": "stdout",
     "output_type": "stream",
     "text": [
      "Feature (age): 1 missing values\n"
     ]
    }
   ],
   "source": [
    "missing_values = df.isnull().sum()\n",
    "missing_values = missing_values[missing_values > 0]\n",
    "for column in missing_values.index:\n",
    "    print(f'Feature ({column}): {missing_values[column]} missing values')"
   ]
  },
  {
   "cell_type": "markdown",
   "metadata": {},
   "source": [
    "Replace the missing values in each feature with the median value. First, compute the median of\n",
    "each feature. Then, replace the missing values with these medians. Display the first five rows of\n",
    "the modified “df”."
   ]
  },
  {
   "cell_type": "code",
   "execution_count": 12,
   "metadata": {},
   "outputs": [
    {
     "name": "stdout",
     "output_type": "stream",
     "text": [
      "Feature (age): 1 missing values. Imputed with (37.0).\n",
      "----------------------\n",
      "    age  fnlwgt  education-num  capital-gain  capital-loss  hours-per-week  \\\n",
      "0  37.0   77516             13          2174             0              40   \n",
      "1  50.0   83311             13             0             0              13   \n",
      "2  38.0  215646              9             0             0              40   \n",
      "3  53.0  234721              7             0             0              40   \n",
      "4  28.0  338409             13             0             0              40   \n",
      "\n",
      "   workclass_Local-gov  workclass_Never-worked  workclass_Private  \\\n",
      "0                    0                       0                  0   \n",
      "1                    0                       0                  0   \n",
      "2                    0                       0                  1   \n",
      "3                    0                       0                  1   \n",
      "4                    0                       0                  1   \n",
      "\n",
      "   workclass_Self-emp-inc  ...  native-country_Puerto-Rico  \\\n",
      "0                       0  ...                           0   \n",
      "1                       0  ...                           0   \n",
      "2                       0  ...                           0   \n",
      "3                       0  ...                           0   \n",
      "4                       0  ...                           0   \n",
      "\n",
      "   native-country_Scotland  native-country_South  native-country_Taiwan  \\\n",
      "0                        0                     0                      0   \n",
      "1                        0                     0                      0   \n",
      "2                        0                     0                      0   \n",
      "3                        0                     0                      0   \n",
      "4                        0                     0                      0   \n",
      "\n",
      "   native-country_Thailand  native-country_Trinadad&Tobago  \\\n",
      "0                        0                               0   \n",
      "1                        0                               0   \n",
      "2                        0                               0   \n",
      "3                        0                               0   \n",
      "4                        0                               0   \n",
      "\n",
      "   native-country_United-States  native-country_Vietnam  \\\n",
      "0                             1                       0   \n",
      "1                             1                       0   \n",
      "2                             1                       0   \n",
      "3                             1                       0   \n",
      "4                             0                       0   \n",
      "\n",
      "   native-country_Yugoslavia  income_>50K  \n",
      "0                          0            0  \n",
      "1                          0            0  \n",
      "2                          0            0  \n",
      "3                          0            0  \n",
      "4                          0            0  \n",
      "\n",
      "[5 rows x 98 columns]\n"
     ]
    }
   ],
   "source": [
    "for column in missing_values.index:\n",
    "    median = df[column].median()\n",
    "    df[column] = df[column].fillna(median)\n",
    "    print(f'Feature ({column}): {missing_values[column]} missing values. Imputed with ({median}).')\n",
    "\n",
    "print(\"----------------------\")\n",
    "print(df.head(5))"
   ]
  },
  {
   "cell_type": "markdown",
   "metadata": {},
   "source": [
    "## Data Analysis"
   ]
  },
  {
   "cell_type": "markdown",
   "metadata": {},
   "source": [
    "Compute the Pearson correlation coefficient (also known as the standard correlation coefficient)\n",
    "between the binary target and all features. Display the complete list of correlations.\n",
    "\n",
    "As an extra exercise, a \"homebrew\" function computes the Pearson correlation coefficient and these\n",
    "values are compared to the built-in Scikit-Learn functions. This was motivated by a desire to\n",
    "ensure ability to compute such metrics in the absence of a nice library function."
   ]
  },
  {
   "cell_type": "code",
   "execution_count": 13,
   "metadata": {},
   "outputs": [
    {
     "name": "stdout",
     "output_type": "stream",
     "text": [
      "age: 0.2340395938452256 (Homebrew: 0.23403959384522655)\n",
      "fnlwgt: -0.009462557247529289 (Homebrew: -0.009462557247529212)\n",
      "education-num: 0.33515395269095516 (Homebrew: 0.33515395269094206)\n",
      "capital-gain: 0.22332881819539652 (Homebrew: 0.22332881819538283)\n",
      "capital-loss: 0.15052631177035364 (Homebrew: 0.15052631177035353)\n",
      "hours-per-week: 0.2296890656708146 (Homebrew: 0.22968906567081027)\n",
      "workclass_Local-gov: 0.0330905715441531 (Homebrew: 0.03309057154415485)\n",
      "workclass_Never-worked: -0.00825863617457719 (Homebrew: -0.00825863617457707)\n",
      "workclass_Private: -0.12557318638000592 (Homebrew: -0.125573186380003)\n",
      "workclass_Self-emp-inc: 0.13946655734052865 (Homebrew: 0.13946655734053828)\n",
      "workclass_Self-emp-not-inc: 0.030019053961920963 (Homebrew: 0.030019053961921997)\n",
      "workclass_State-gov: 0.014843290616543844 (Homebrew: 0.014843290616542526)\n",
      "workclass_Without-pay: -0.011680731190583271 (Homebrew: -0.01168073119058295)\n",
      "education_11th: -0.08586392327840231 (Homebrew: -0.0858639232783975)\n",
      "education_12th: -0.04469017135417197 (Homebrew: -0.0446901713541708)\n",
      "education_1st-4th: -0.03454398828995466 (Homebrew: -0.034543988289952414)\n",
      "education_5th-6th: -0.04582616682401673 (Homebrew: -0.0458261668240161)\n",
      "education_7th-8th: -0.05952409498375977 (Homebrew: -0.059524094983758526)\n",
      "education_9th: -0.05576743851106816 (Homebrew: -0.05576743851107198)\n",
      "education_Assoc-acdm: 0.0032502892468222583 (Homebrew: 0.003250289246821846)\n",
      "education_Assoc-voc: 0.010047780081320363 (Homebrew: 0.010047780081320368)\n",
      "education_Bachelors: 0.1804854292020764 (Homebrew: 0.18048542920208177)\n",
      "education_Doctorate: 0.132572005809647 (Homebrew: 0.1325720058096372)\n",
      "education_HS-grad: -0.13118854401281543 (Homebrew: -0.13118854401281277)\n",
      "education_Masters: 0.17456971065154217 (Homebrew: 0.1745697106515272)\n",
      "education_Preschool: -0.022306842300559963 (Homebrew: -0.022306842300559012)\n",
      "education_Prof-school: 0.15490683578935546 (Homebrew: 0.15490683578936076)\n",
      "education_Some-college: -0.06353525542940884 (Homebrew: -0.06353525542940645)\n",
      "marital-status_Married-AF-spouse: 0.012061398380602191 (Homebrew: 0.012061398380602351)\n",
      "marital-status_Married-civ-spouse: 0.44469615504631893 (Homebrew: 0.44469615504631665)\n",
      "marital-status_Married-spouse-absent: -0.0425315570013696 (Homebrew: -0.04253155700136728)\n",
      "marital-status_Never-married: -0.31844032507378484 (Homebrew: -0.3184403250737757)\n",
      "marital-status_Separated: -0.07438622703108494 (Homebrew: -0.07438622703108848)\n",
      "marital-status_Widowed: -0.0643812759130602 (Homebrew: -0.06438127591306411)\n",
      "occupation_Armed-Forces: -0.005043766399288856 (Homebrew: -0.005043766399288649)\n",
      "occupation_Craft-repair: -0.012575653760998366 (Homebrew: -0.012575653760998283)\n",
      "occupation_Exec-managerial: 0.21486131464646574 (Homebrew: 0.21486131464645095)\n",
      "occupation_Farming-fishing: -0.051924826461944164 (Homebrew: -0.051924826461946266)\n",
      "occupation_Handlers-cleaners: -0.08726514883228735 (Homebrew: -0.08726514883228553)\n",
      "occupation_Machine-op-inspct: -0.06940051324442362 (Homebrew: -0.06940051324441956)\n",
      "occupation_Other-service: -0.1563477390562763 (Homebrew: -0.15634773905628319)\n",
      "occupation_Priv-house-serv: -0.03712153884405747 (Homebrew: -0.0371215388440579)\n",
      "occupation_Prof-specialty: 0.11299337481771643 (Homebrew: 0.11299337481771039)\n",
      "occupation_Protective-serv: 0.02811846577386094 (Homebrew: 0.028118465773859045)\n",
      "occupation_Sales: 0.023688168354985228 (Homebrew: 0.023688168354985488)\n",
      "occupation_Tech-support: 0.02569627773966079 (Homebrew: 0.025696277739663573)\n",
      "occupation_Transport-moving: -0.021476169882168113 (Homebrew: -0.021476169882170028)\n",
      "relatioship_Not-in-family: -0.18849737130400526 (Homebrew: -0.18849737130400465)\n",
      "relatioship_Other-relative: -0.08371649655546817 (Homebrew: -0.08371649655546803)\n",
      "relatioship_Own-child: -0.2285319634738345 (Homebrew: -0.2285319634738231)\n",
      "relatioship_Unmarried: -0.1428572613719377 (Homebrew: -0.1428572613719436)\n",
      "relatioship_Wife: 0.12326353972806929 (Homebrew: 0.12326353972805602)\n",
      "race_Asian-Pac-Islander: 0.010543232871476209 (Homebrew: 0.010543232871476129)\n",
      "race_Black: -0.08908860332216507 (Homebrew: -0.08908860332216585)\n",
      "race_Other: -0.03182997497889279 (Homebrew: -0.03182997497889278)\n",
      "race_White: 0.0852244975018788 (Homebrew: 0.08522449750188024)\n",
      "sex_Male: 0.2159801505840338 (Homebrew: 0.21598015058403636)\n",
      "native-country_Canada: 0.011641838819113376 (Homebrew: 0.011641838819113001)\n",
      "native-country_China: 0.002905696536760014 (Homebrew: 0.0029056965367596577)\n",
      "native-country_Columbia: -0.020617824869165833 (Homebrew: -0.020617824869164546)\n",
      "native-country_Cuba: 0.002827355393405726 (Homebrew: 0.002827355393405601)\n",
      "native-country_Dominican-Republic: -0.023039797795714384 (Homebrew: -0.023039797795714845)\n",
      "native-country_Ecuador: -0.006720783095393776 (Homebrew: -0.0067207830953936775)\n",
      "native-country_El-Salvador: -0.020838040188019845 (Homebrew: -0.020838040188020518)\n",
      "native-country_England: 0.01139238215946187 (Homebrew: 0.011392382159462571)\n",
      "native-country_France: 0.01207914478171855 (Homebrew: 0.012079144781718922)\n",
      "native-country_Germany: 0.012216467450179022 (Homebrew: 0.012216467450177992)\n",
      "native-country_Greece: 0.002447656851718238 (Homebrew: 0.0024476568517176416)\n",
      "native-country_Guatemala: -0.020128496174500535 (Homebrew: -0.020128496174500014)\n",
      "native-country_Haiti: -0.01289620301883809 (Homebrew: -0.012896203018838667)\n",
      "native-country_Holand-Netherlands: -0.003121183451419904 (Homebrew: -0.0031211834514198625)\n",
      "native-country_Honduras: -0.007660205586127125 (Homebrew: -0.007660205586126847)\n",
      "native-country_Hong: 0.0034319338765782257 (Homebrew: 0.003431933876577797)\n",
      "native-country_Hungary: -0.0004692941495281521 (Homebrew: -0.00046929414952775117)\n",
      "native-country_India: 0.020664448393075265 (Homebrew: 0.02066444839307536)\n",
      "native-country_Iran: 0.0151209772840119 (Homebrew: 0.015120977284010576)\n",
      "native-country_Ireland: -0.0020628619776556795 (Homebrew: -0.002062861977655838)\n",
      "native-country_Italy: 0.011269939123851415 (Homebrew: 0.011269939123851427)\n",
      "native-country_Jamaica: -0.013706154044160564 (Homebrew: -0.013706154044160717)\n",
      "native-country_Japan: 0.01494359184353838 (Homebrew: 0.01494359184353816)\n",
      "native-country_Laos: -0.007133949115141928 (Homebrew: -0.007133949115141793)\n",
      "native-country_Mexico: -0.06290081708896232 (Homebrew: -0.06290081708896134)\n",
      "native-country_Nicaragua: -0.01376078705101511 (Homebrew: -0.013760787051014575)\n",
      "native-country_Outlying-US(Guam-USVI-etc): -0.011680731190583198 (Homebrew: -0.011680731190582948)\n",
      "native-country_Peru: -0.012728074630027614 (Homebrew: -0.012728074630027095)\n",
      "native-country_Philippines: 0.012306242941029158 (Homebrew: 0.012306242941028134)\n",
      "native-country_Poland: -0.004100878692341954 (Homebrew: -0.004100878692341907)\n",
      "native-country_Portugal: -0.010467966549105905 (Homebrew: -0.010467966549105364)\n",
      "native-country_Puerto-Rico: -0.01879061141577516 (Homebrew: -0.01879061141577485)\n",
      "native-country_Scotland: 0.000412710954869162 (Homebrew: 0.0004127109548695637)\n",
      "native-country_South: -0.004736744473148692 (Homebrew: -0.004736744473149346)\n",
      "native-country_Taiwan: 0.014019711292720735 (Homebrew: 0.014019711292720255)\n",
      "native-country_Thailand: -0.0040781645811209105 (Homebrew: -0.004078164581120905)\n",
      "native-country_Trinadad&Tobago: -0.007660029468624471 (Homebrew: -0.00766002946862412)\n",
      "native-country_United-States: 0.038942084636249756 (Homebrew: 0.038942084636251054)\n",
      "native-country_Vietnam: -0.01764856410198748 (Homebrew: -0.017648564101987948)\n",
      "native-country_Yugoslavia: 0.006958685561912779 (Homebrew: 0.006958685561912736)\n",
      "income_>50K: 1.0 (Homebrew: 1.0)\n"
     ]
    }
   ],
   "source": [
    "def homebrew_pearson(x, y):\n",
    "    '''\n",
    "    Computes the Pearson correlation coefficient given two distributions x and y.\n",
    "    '''\n",
    "    x_mean = x.mean()\n",
    "    y_mean = y.mean()\n",
    "    x_diff = x - x_mean\n",
    "    y_diff = y - y_mean\n",
    "    numerator = (x_diff * y_diff).sum()\n",
    "    denominator = np.sqrt((x_diff**2).sum() * (y_diff**2).sum())\n",
    "    return numerator / denominator\n",
    "\n",
    "for column in df.columns:\n",
    "    hb_correlation = homebrew_pearson(df[column], df['income_>50K'])\n",
    "    correlation = df[column].corr(df['income_>50K'])\n",
    "    print(f'{column}: {correlation} (Homebrew: {hb_correlation})')"
   ]
  },
  {
   "cell_type": "markdown",
   "metadata": {},
   "source": [
    "## Create Data Matrix X and Target y"
   ]
  },
  {
   "cell_type": "markdown",
   "metadata": {},
   "source": [
    "Create a deep copy of the DataFrame object using the copy() method of DataFrame. Name it as\n",
    "“df_main”. The copy will be used for Experiment 5."
   ]
  },
  {
   "cell_type": "code",
   "execution_count": 14,
   "metadata": {},
   "outputs": [],
   "source": [
    "df_main = df.copy()"
   ]
  },
  {
   "cell_type": "markdown",
   "metadata": {},
   "source": [
    "From “df”, create separate DataFrame objects for the features (y) and the target (X)."
   ]
  },
  {
   "cell_type": "code",
   "execution_count": 15,
   "metadata": {},
   "outputs": [],
   "source": [
    "X = df.drop(columns='income_>50K')\n",
    "y = df['income_>50K']"
   ]
  },
  {
   "cell_type": "markdown",
   "metadata": {},
   "source": [
    "Convert the feature and target DataFrame objects into NumPy arrays."
   ]
  },
  {
   "cell_type": "code",
   "execution_count": 16,
   "metadata": {},
   "outputs": [],
   "source": [
    "X = X.to_numpy()\n",
    "y = y.to_numpy()"
   ]
  },
  {
   "cell_type": "markdown",
   "metadata": {},
   "source": [
    "Display the shape and data type of the feature and target arrays."
   ]
  },
  {
   "cell_type": "code",
   "execution_count": 17,
   "metadata": {},
   "outputs": [
    {
     "name": "stdout",
     "output_type": "stream",
     "text": [
      "X: (32561, 97), float64\n",
      "y: (32561,), int32\n"
     ]
    }
   ],
   "source": [
    "print(f'X: {X.shape}, {X.dtype}')\n",
    "print(f'y: {y.shape}, {y.dtype}')"
   ]
  },
  {
   "cell_type": "markdown",
   "metadata": {},
   "source": [
    "Create a bar plot for the new target array to show the distribution of samples in the two classes.\n",
    "You must use NumPy arrays to create the plot and are not allowed to use DataFrame methods.\n",
    "Label the vertical axis as “Number of Instances”. Display the class labels (“high” or “low”) at\n",
    "the bottom of each bar on the horizontal axis. The title of the figure should be “Distribution of\n",
    "Classes”, and the figure dimensions should be (8, 8)."
   ]
  },
  {
   "cell_type": "code",
   "execution_count": 18,
   "metadata": {},
   "outputs": [
    {
     "name": "stdout",
     "output_type": "stream",
     "text": [
      "[0 1] [24720  7841]\n"
     ]
    },
    {
     "data": {
      "image/png": "[encoded data removed]",
      "text/plain": [
       "<Figure size 800x800 with 1 Axes>"
      ]
     },
     "metadata": {},
     "output_type": "display_data"
    }
   ],
   "source": [
    "unique, counts = np.unique(y, return_counts=True)\n",
    "print(unique, counts)\n",
    "plt.figure(figsize=(8, 8))\n",
    "plt.bar(['low', 'high'], counts)\n",
    "plt.ylabel('Number of Instances')\n",
    "plt.title('Distribution of Classes')\n",
    "plt.show()"
   ]
  },
  {
   "cell_type": "markdown",
   "metadata": {},
   "source": [
    "## Partition the Dataset into Train & Test Subsets"
   ]
  },
  {
   "cell_type": "markdown",
   "metadata": {},
   "source": [
    "Partition the dataset into training & test subsets: 80% training & 20% test (you may use\n",
    "Scikit-Learn’s train_test_split() function)"
   ]
  },
  {
   "cell_type": "code",
   "execution_count": 19,
   "metadata": {},
   "outputs": [],
   "source": [
    "X_train, X_test, y_train, y_test = train_test_split(X, y, test_size=0.2, random_state=42)"
   ]
  },
  {
   "cell_type": "markdown",
   "metadata": {},
   "source": [
    "# Experiments\n",
    "\n",
    "Perform binary classification using k-NN models for the following experiments. Tune hyperparameters\n",
    "to determine the optimal values for the following 3 hyperparameters: n_neighbors, p, and weights."
   ]
  },
  {
   "cell_type": "code",
   "execution_count": 20,
   "metadata": {},
   "outputs": [],
   "source": [
    "def report_classifier_test_performance(y_labels, y_predictions, verbose=True):\n",
    "    '''\n",
    "    Report the performance of a classifier on the test set. Assumes labels and predictions are\n",
    "    already computed and passed as arguments. Returns the accuracy, precision, recall, F1 score, and\n",
    "    confusion matrix. If verbose is True, print the results.\n",
    "\n",
    "    Parameters:\n",
    "        y_labels (numpy.ndarray): True labels of the test set.\n",
    "        y_predictions (numpy.ndarray): Predicted labels of the test set.\n",
    "        verbose (bool): Whether to print the results.\n",
    "\n",
    "    Returns:\n",
    "        accuracy (float): The accuracy of the classifier.\n",
    "        precision (float): The precision of the classifier.\n",
    "        recall (float): The recall of the classifier.\n",
    "        f1 (float): The F1 score of the classifier.\n",
    "        confusion (numpy.ndarray): The confusion matrix of the classifier.\n",
    "    '''\n",
    "    accuracy = accuracy_score(y_labels, y_predictions)\n",
    "    precision = precision_score(y_labels, y_predictions)\n",
    "    recall = recall_score(y_labels, y_predictions)\n",
    "    f1 = f1_score(y_labels, y_predictions)\n",
    "    confusion = confusion_matrix(y_labels, y_predictions)\n",
    "\n",
    "    if verbose:\n",
    "        print(f'Test Accuracy: {accuracy}')\n",
    "        print(f'Test Precision: {precision}')\n",
    "        print(f'Test Recall: {recall}')\n",
    "        print(f'Test F1 Score: {f1}')\n",
    "        print('Test Confusion Matrix:')\n",
    "        print(confusion)\n",
    "\n",
    "    return accuracy, precision, recall, f1, confusion\n"
   ]
  },
  {
   "cell_type": "markdown",
   "metadata": {},
   "source": [
    "If using GridSearchCV for hyperparameter tuning in the following experiment, consider uncommenting\n",
    "the following block and limiting the number of CPUs that are available to parallelize the task.\n",
    "This will help ensure you don't bog down your machine with the grid search.\n",
    "\n",
    "If necessary install the psutil via `pip install psutil` or `conda install psutil`."
   ]
  },
  {
   "cell_type": "code",
   "execution_count": 21,
   "metadata": {},
   "outputs": [],
   "source": [
    "import psutil\n",
    "p = psutil.Process()\n",
    "p.cpu_affinity([0, 1, 2, 3, 4, 5]) # Set CPU affinity to the first 6 CPUs, so we don't use all cores"
   ]
  },
  {
   "cell_type": "markdown",
   "metadata": {},
   "source": [
    "## Experiment 1: All Features + No Standardization"
   ]
  },
  {
   "cell_type": "markdown",
   "metadata": {},
   "source": [
    "### Model Selection"
   ]
  },
  {
   "cell_type": "code",
   "execution_count": 25,
   "metadata": {},
   "outputs": [],
   "source": [
    "best_params_ex1 = {'n_neighbors': 3, 'p': 1, 'weights': 'distance'}"
   ]
  },
  {
   "cell_type": "markdown",
   "metadata": {},
   "source": [
    "Skip the following three code blocks if you don't want to spend the time running an extensive grid\n",
    "search. The top parameters are provided above."
   ]
  },
  {
   "cell_type": "code",
   "execution_count": 23,
   "metadata": {},
   "outputs": [],
   "source": [
    "# Define the k-NN classifier and the cross-validation grid search objects\n",
    "knn_ex1 = KNeighborsClassifier()\n",
    "\n",
    "parameter_grid_ex1 = {\n",
    "    \"n_neighbors\": np.arange(1, 23, 2),\n",
    "    \"p\": [1, 2], # previously included powers up to 1000, but it took too long and didn't improve\n",
    "    \"weights\": [\"uniform\", \"distance\"],\n",
    "}\n",
    "\n",
    "grid_search_ex1 = GridSearchCV(knn_ex1, parameter_grid_ex1, cv=5, scoring='f1', n_jobs=-1)"
   ]
  },
  {
   "cell_type": "markdown",
   "metadata": {},
   "source": [
    "Perform the grid search on the training data"
   ]
  },
  {
   "cell_type": "code",
   "execution_count": 26,
   "metadata": {},
   "outputs": [
    {
     "name": "stdout",
     "output_type": "stream",
     "text": [
      "CPU times: total: 312 ms\n",
      "Wall time: 3min 4s\n"
     ]
    }
   ],
   "source": [
    "%%time\n",
    "_ = grid_search_ex1.fit(X_train, y_train)\n",
    "best_params_ex1 = grid_search_ex1.best_params_\n",
    "best_score_ex1 = grid_search_ex1.best_score_"
   ]
  },
  {
   "cell_type": "markdown",
   "metadata": {},
   "source": [
    "Display the best hyperparameters and the corresponding F1 score"
   ]
  },
  {
   "cell_type": "code",
   "execution_count": 27,
   "metadata": {},
   "outputs": [
    {
     "name": "stdout",
     "output_type": "stream",
     "text": [
      "{'n_neighbors': 3, 'p': 1, 'weights': 'distance'}\n",
      "0.4547760556093815\n"
     ]
    }
   ],
   "source": [
    "print(grid_search_ex1.best_params_)\n",
    "print(grid_search_ex1.best_score_)\n",
    "\n",
    "best_params_ex1 = grid_search_ex1.best_params_"
   ]
  },
  {
   "cell_type": "markdown",
   "metadata": {},
   "source": [
    "### Train a Model Using Optimal Hyperparameters"
   ]
  },
  {
   "cell_type": "markdown",
   "metadata": {},
   "source": [
    "Train the k-NN classifier with the best hyperparameters"
   ]
  },
  {
   "cell_type": "code",
   "execution_count": 28,
   "metadata": {},
   "outputs": [
    {
     "name": "stdout",
     "output_type": "stream",
     "text": [
      "CPU times: total: 0 ns\n",
      "Wall time: 4.6 ms\n"
     ]
    }
   ],
   "source": [
    "%%time\n",
    "knn_ex1 = KNeighborsClassifier(**best_params_ex1)\n",
    "_ = knn_ex1.fit(X_train, y_train)"
   ]
  },
  {
   "cell_type": "markdown",
   "metadata": {},
   "source": [
    "### Evaluate the Model "
   ]
  },
  {
   "cell_type": "markdown",
   "metadata": {},
   "source": [
    "Generate predictions on the training and test sets"
   ]
  },
  {
   "cell_type": "code",
   "execution_count": 29,
   "metadata": {},
   "outputs": [
    {
     "name": "stdout",
     "output_type": "stream",
     "text": [
      "CPU times: total: 1min 1s\n",
      "Wall time: 11.6 s\n"
     ]
    }
   ],
   "source": [
    "%%time\n",
    "train_predictions_ex1 = knn_ex1.predict(X_train)\n",
    "test_predictions_ex1 = knn_ex1.predict(X_test)"
   ]
  },
  {
   "cell_type": "markdown",
   "metadata": {},
   "source": [
    "Compute the accuracy of the classifier on the training and test sets to help understand how well\n",
    "the classifier generalizes to unseen data. Report additional classification metrics (precision, \n",
    "recall, F1, and confusion matrix)."
   ]
  },
  {
   "cell_type": "code",
   "execution_count": 30,
   "metadata": {},
   "outputs": [
    {
     "name": "stdout",
     "output_type": "stream",
     "text": [
      "Training Accuracy: 1.0\n",
      "Test Accuracy: 0.7680024566252112\n",
      "Test Precision: 0.5225225225225225\n",
      "Test Recall: 0.4430299172501591\n",
      "Test F1 Score: 0.47950396141922147\n",
      "Test Confusion Matrix:\n",
      "[[4306  636]\n",
      " [ 875  696]]\n"
     ]
    }
   ],
   "source": [
    "print(f'Training Accuracy: {accuracy_score(y_train, train_predictions_ex1)}')\n",
    "\n",
    "_ = report_classifier_test_performance(y_test, test_predictions_ex1)"
   ]
  },
  {
   "cell_type": "markdown",
   "metadata": {},
   "source": [
    "## Experiment 2: All Features + Standardization"
   ]
  },
  {
   "cell_type": "markdown",
   "metadata": {},
   "source": [
    "### Standardize the Data"
   ]
  },
  {
   "cell_type": "code",
   "execution_count": 31,
   "metadata": {},
   "outputs": [],
   "source": [
    "knn_ex2 = KNeighborsClassifier()\n",
    "scaler = StandardScaler()\n",
    "X_train_scaled = scaler.fit_transform(X_train)\n",
    "X_test_scaled = scaler.transform(X_test)"
   ]
  },
  {
   "cell_type": "markdown",
   "metadata": {},
   "source": [
    "### Model Selection"
   ]
  },
  {
   "cell_type": "code",
   "execution_count": 32,
   "metadata": {},
   "outputs": [],
   "source": [
    "best_params_ex2 = {'n_neighbors': 51, 'p': 1, 'weights': 'distance'}"
   ]
  },
  {
   "cell_type": "markdown",
   "metadata": {},
   "source": [
    "Skip the following two code blocks if you don't want to spend the time running an extensive grid\n",
    "search. The top parameters are provided above "
   ]
  },
  {
   "cell_type": "code",
   "execution_count": 80,
   "metadata": {},
   "outputs": [
    {
     "name": "stdout",
     "output_type": "stream",
     "text": [
      "CPU times: total: 7.5 s\n",
      "Wall time: 3h 34min 53s\n"
     ]
    }
   ],
   "source": [
    "%%time\n",
    "parameter_grid_ex2 = {\n",
    "    \"n_neighbors\": np.arange(1, 63, 2),\n",
    "    \"p\": [1, 2, 10, 50, 100, 500, 1000], # previously included powers up to 1000, but it took too long and didn't improve\n",
    "    \"weights\": [\"uniform\", \"distance\"],\n",
    "}\n",
    "\n",
    "grid_search_ex2 = GridSearchCV(knn_ex2, parameter_grid_ex2, cv=5, scoring='f1', n_jobs=-1)\n",
    "_ = grid_search_ex2.fit(X_train_scaled, y_train)\n"
   ]
  },
  {
   "cell_type": "code",
   "execution_count": 82,
   "metadata": {},
   "outputs": [
    {
     "name": "stdout",
     "output_type": "stream",
     "text": [
      "{'n_neighbors': 51, 'p': 1, 'weights': 'distance'}\n",
      "0.6186874544999409\n"
     ]
    }
   ],
   "source": [
    "print(grid_search_ex2.best_params_)\n",
    "print(grid_search_ex2.best_score_)\n",
    "\n",
    "best_params_ex2 = grid_search_ex2.best_params_"
   ]
  },
  {
   "cell_type": "markdown",
   "metadata": {},
   "source": [
    "### Train a Model Using Optimal Hyperparameters"
   ]
  },
  {
   "cell_type": "code",
   "execution_count": 33,
   "metadata": {},
   "outputs": [
    {
     "name": "stdout",
     "output_type": "stream",
     "text": [
      "CPU times: total: 0 ns\n",
      "Wall time: 4.86 ms\n"
     ]
    }
   ],
   "source": [
    "%%time\n",
    "knn_ex2 = KNeighborsClassifier(**best_params_ex2)\n",
    "_ = knn_ex2.fit(X_train_scaled, y_train)"
   ]
  },
  {
   "cell_type": "markdown",
   "metadata": {},
   "source": [
    "### Evaluate the Model "
   ]
  },
  {
   "cell_type": "code",
   "execution_count": 34,
   "metadata": {},
   "outputs": [
    {
     "name": "stdout",
     "output_type": "stream",
     "text": [
      "CPU times: total: 1min 1s\n",
      "Wall time: 14.4 s\n"
     ]
    }
   ],
   "source": [
    "%%time\n",
    "train_predictions_ex2 = knn_ex2.predict(X_train_scaled)\n",
    "test_predictions_ex2 = knn_ex2.predict(X_test_scaled)"
   ]
  },
  {
   "cell_type": "code",
   "execution_count": 35,
   "metadata": {},
   "outputs": [
    {
     "name": "stdout",
     "output_type": "stream",
     "text": [
      "Training Accuracy: 1.0\n",
      "Test Accuracy: 0.8363273453093812\n",
      "Test Precision: 0.7008750994431185\n",
      "Test Recall: 0.5607893061744113\n",
      "Test F1 Score: 0.6230551626591231\n",
      "Test Confusion Matrix:\n",
      "[[4566  376]\n",
      " [ 690  881]]\n"
     ]
    }
   ],
   "source": [
    "print(f'Training Accuracy: {accuracy_score(y_train, train_predictions_ex2)}')\n",
    "_ = report_classifier_test_performance(y_test, test_predictions_ex2)"
   ]
  },
  {
   "cell_type": "markdown",
   "metadata": {},
   "source": [
    "## Experiment 3: Generate Performance Curves for Ex. 2"
   ]
  },
  {
   "cell_type": "markdown",
   "metadata": {},
   "source": [
    "### Generate ROC Curve"
   ]
  },
  {
   "cell_type": "code",
   "execution_count": 36,
   "metadata": {},
   "outputs": [
    {
     "name": "stdout",
     "output_type": "stream",
     "text": [
      "ROC AUC: 0.8851167495848081\n"
     ]
    },
    {
     "data": {
      "image/png": "[encoded data removed]",
      "text/plain": [
       "<Figure size 650x650 with 1 Axes>"
      ]
     },
     "metadata": {},
     "output_type": "display_data"
    }
   ],
   "source": [
    "fpr_ex2, tpr_ex2, _ = roc_curve(y_test, knn_ex2.predict_proba(X_test_scaled)[:, 1])\n",
    "roc_auc_ex2 = auc(fpr_ex2, tpr_ex2)\n",
    "\n",
    "print(f'ROC AUC: {roc_auc_ex2}')\n",
    "\n",
    "plt.figure(figsize=(6.5, 6.5))\n",
    "plt.plot(fpr_ex2, tpr_ex2, color='darkorange', lw=2, label=f'ROC curve (area = {roc_auc_ex2:.2f})')\n",
    "plt.plot([0, 1], [0, 1], color='navy', lw=2, linestyle='--')\n",
    "plt.xlim([0.0, 1.0])\n",
    "plt.ylim([0.0, 1.05])\n",
    "plt.xlabel('False Positive Rate')\n",
    "plt.ylabel('True Positive Rate')\n",
    "plt.title('Experiment 2 Receiver Operating Characteristic')\n",
    "plt.legend(loc='lower right')\n",
    "plt.show()"
   ]
  },
  {
   "cell_type": "markdown",
   "metadata": {},
   "source": [
    "### Generate Precision-Recall Curves"
   ]
  },
  {
   "cell_type": "code",
   "execution_count": 37,
   "metadata": {},
   "outputs": [
    {
     "data": {
      "image/png": "[encoded data removed]",
      "text/plain": [
       "<Figure size 800x400 with 1 Axes>"
      ]
     },
     "metadata": {},
     "output_type": "display_data"
    }
   ],
   "source": [
    "pr_crv = precision_recall_curve(y_test, knn_ex2.predict_proba(X_test_scaled)[:, 1])\n",
    "precision_ex2, recall_ex2, thresholds_ex2 = pr_crv\n",
    "\n",
    "optimal_threshold = thresholds_ex2[np.argmin(np.abs(precision_ex2[:-1] - recall_ex2[:-1]))]\n",
    "\n",
    "plt.figure(figsize=(8, 4))\n",
    "plt.plot(thresholds_ex2, precision_ex2[:-1], color='blue', lw=2, label='Precision')\n",
    "plt.plot(thresholds_ex2, recall_ex2[:-1], color='green', lw=2, label='Recall')\n",
    "plt.axvline(optimal_threshold, color='red', linestyle='--', label=f'Optimal Threshold ({optimal_threshold:.2f})')\n",
    "plt.xlabel('Threshold')\n",
    "plt.ylabel('Precision, Recall')\n",
    "plt.title('Experiment 2 Precision-Recall Curve')\n",
    "plt.legend(loc='lower left')\n",
    "plt.show()"
   ]
  },
  {
   "cell_type": "markdown",
   "metadata": {},
   "source": [
    "### Train a Model Using Optimal Hyperparameters"
   ]
  },
  {
   "cell_type": "code",
   "execution_count": 38,
   "metadata": {},
   "outputs": [
    {
     "name": "stdout",
     "output_type": "stream",
     "text": [
      "CPU times: total: 0 ns\n",
      "Wall time: 4.13 ms\n"
     ]
    }
   ],
   "source": [
    "%%time\n",
    "knn_ex3 = KNeighborsClassifier(**best_params_ex2)\n",
    "_ = knn_ex3.fit(X_train_scaled, y_train)"
   ]
  },
  {
   "cell_type": "markdown",
   "metadata": {},
   "source": [
    "### Evaluate the Model "
   ]
  },
  {
   "cell_type": "code",
   "execution_count": 39,
   "metadata": {},
   "outputs": [
    {
     "name": "stdout",
     "output_type": "stream",
     "text": [
      "CPU times: total: 1min 2s\n",
      "Wall time: 13.2 s\n"
     ]
    }
   ],
   "source": [
    "%%time\n",
    "train_predictions_ex3 = knn_ex3.predict_proba(X_train_scaled)[:, 1] > optimal_threshold\n",
    "test_predictions_ex3 = knn_ex3.predict_proba(X_test_scaled)[:, 1] > optimal_threshold"
   ]
  },
  {
   "cell_type": "code",
   "execution_count": 40,
   "metadata": {},
   "outputs": [
    {
     "name": "stdout",
     "output_type": "stream",
     "text": [
      "Training Accuracy: 1.0\n",
      "Test Accuracy: 0.8361738062336864\n",
      "Test Precision: 0.6605095541401274\n",
      "Test Recall: 0.66008911521324\n",
      "Test F1 Score: 0.6602992677491245\n",
      "Test Confusion Matrix:\n",
      "[[4409  533]\n",
      " [ 534 1037]]\n"
     ]
    }
   ],
   "source": [
    "print(f'Training Accuracy: {accuracy_score(y_train, train_predictions_ex3)}')\n",
    "_ = report_classifier_test_performance(y_test, test_predictions_ex3)"
   ]
  },
  {
   "cell_type": "markdown",
   "metadata": {},
   "source": [
    "## Experiment 4: Conduct Feature Selection"
   ]
  },
  {
   "cell_type": "markdown",
   "metadata": {},
   "source": [
    "### Feature Selection"
   ]
  },
  {
   "cell_type": "code",
   "execution_count": 41,
   "metadata": {},
   "outputs": [],
   "source": [
    "from sklearn.feature_selection import SequentialFeatureSelector\n",
    "\n",
    "knn_ex4 = KNeighborsClassifier()\n",
    "sfs = SequentialFeatureSelector(knn_ex4, n_features_to_select=10, direction='forward')"
   ]
  },
  {
   "cell_type": "markdown",
   "metadata": {},
   "source": [
    "The feature selector ran 1h 14min and produced feature indices of [ 3  4 10 22 26 29 36 45 59 74]."
   ]
  },
  {
   "cell_type": "code",
   "execution_count": 42,
   "metadata": {},
   "outputs": [],
   "source": [
    "selected_features = [3, 4, 10, 22, 26, 29, 36, 45, 59, 74]"
   ]
  },
  {
   "cell_type": "markdown",
   "metadata": {},
   "source": [
    "Skip the following two code-blocks if you want to avoid the time-consuming feature selection op."
   ]
  },
  {
   "cell_type": "code",
   "execution_count": 95,
   "metadata": {},
   "outputs": [
    {
     "name": "stdout",
     "output_type": "stream",
     "text": [
      "CPU times: total: 1h 8min 2s\n",
      "Wall time: 1h 14min 20s\n"
     ]
    }
   ],
   "source": [
    "%%time\n",
    "_ = sfs.fit(X_train_scaled, y_train)"
   ]
  },
  {
   "cell_type": "code",
   "execution_count": 96,
   "metadata": {},
   "outputs": [
    {
     "name": "stdout",
     "output_type": "stream",
     "text": [
      "[ 3  4 10 22 26 29 36 45 59 74]\n"
     ]
    }
   ],
   "source": [
    "selected_features = sfs.get_support(indices=True)\n",
    "print(selected_features)"
   ]
  },
  {
   "cell_type": "code",
   "execution_count": 43,
   "metadata": {},
   "outputs": [
    {
     "name": "stdout",
     "output_type": "stream",
     "text": [
      "Selected features:\n",
      "   3: capital-gain\n",
      "   4: capital-loss\n",
      "   10: workclass_Self-emp-not-inc\n",
      "   22: education_Doctorate\n",
      "   26: education_Prof-school\n",
      "   29: marital-status_Married-civ-spouse\n",
      "   36: occupation_Exec-managerial\n",
      "   45: occupation_Tech-support\n",
      "   59: native-country_Columbia\n",
      "   74: native-country_India\n"
     ]
    }
   ],
   "source": [
    "print(\"Selected features:\")\n",
    "for f_idx in selected_features:\n",
    "    print(f\"   {f_idx}: {df_column_names[f_idx]}\")"
   ]
  },
  {
   "cell_type": "markdown",
   "metadata": {},
   "source": [
    "### Model Selection"
   ]
  },
  {
   "cell_type": "code",
   "execution_count": 44,
   "metadata": {},
   "outputs": [],
   "source": [
    "best_params_ex4 = {'n_neighbors': 3, 'p': 1, 'weights': 'distance'}"
   ]
  },
  {
   "cell_type": "markdown",
   "metadata": {},
   "source": [
    "Skip the following two code blocks if you don't want to spend the time running an extensive grid\n",
    "search. The top parameters are provided above "
   ]
  },
  {
   "cell_type": "code",
   "execution_count": 109,
   "metadata": {},
   "outputs": [
    {
     "name": "stdout",
     "output_type": "stream",
     "text": [
      "CPU times: total: 4.08 s\n",
      "Wall time: 15min 53s\n"
     ]
    }
   ],
   "source": [
    "%%time\n",
    "parameter_grid_ex4 = {\n",
    "    \"n_neighbors\": np.arange(1, 103, 2),\n",
    "    \"p\": [1, 2, 10, 50], #, 100, 500, 1000],\n",
    "    \"weights\": [\"uniform\", \"distance\"],\n",
    "}\n",
    "\n",
    "grid_search_ex4 = GridSearchCV(knn_ex4, parameter_grid_ex4, cv=5, scoring='f1', n_jobs=-1)\n",
    "_ = grid_search_ex4.fit(X_train_scaled[:, selected_features], y_train)"
   ]
  },
  {
   "cell_type": "code",
   "execution_count": 112,
   "metadata": {},
   "outputs": [
    {
     "name": "stdout",
     "output_type": "stream",
     "text": [
      "{'n_neighbors': 87, 'p': 1, 'weights': 'distance'}\n",
      "0.6151145872442795\n"
     ]
    }
   ],
   "source": [
    "print(grid_search_ex4.best_params_)\n",
    "print(grid_search_ex4.best_score_)\n",
    "\n",
    "best_params_ex4 = grid_search_ex4.best_params_"
   ]
  },
  {
   "cell_type": "markdown",
   "metadata": {},
   "source": [
    "### Train a Model Using Optimal Hyperparameters"
   ]
  },
  {
   "cell_type": "code",
   "execution_count": 45,
   "metadata": {},
   "outputs": [],
   "source": [
    "knn_ex4 = KNeighborsClassifier(**best_params_ex4)\n",
    "_ = knn_ex4.fit(X_train_scaled[:, selected_features], y_train)"
   ]
  },
  {
   "cell_type": "markdown",
   "metadata": {},
   "source": [
    "### Evaluate Model"
   ]
  },
  {
   "cell_type": "code",
   "execution_count": 46,
   "metadata": {},
   "outputs": [
    {
     "name": "stdout",
     "output_type": "stream",
     "text": [
      "Training Accuracy: 0.8542690417690417\n",
      "Test Accuracy: 0.8519883310302472\n",
      "Test Precision: 0.7990147783251231\n",
      "Test Recall: 0.5162316995544239\n",
      "Test F1 Score: 0.6272235112142305\n",
      "Test Confusion Matrix:\n",
      "[[4738  204]\n",
      " [ 760  811]]\n"
     ]
    }
   ],
   "source": [
    "print(f'Training Accuracy: {accuracy_score(y_train, knn_ex4.predict(X_train_scaled[:, selected_features]))}')\n",
    "_ = report_classifier_test_performance(y_test, knn_ex4.predict(X_test_scaled[:, selected_features]))"
   ]
  },
  {
   "cell_type": "markdown",
   "metadata": {},
   "source": [
    "### Generate Precision-Recall Curves"
   ]
  },
  {
   "cell_type": "code",
   "execution_count": 51,
   "metadata": {},
   "outputs": [],
   "source": [
    "pr_crv_ex4 = precision_recall_curve(y_test, knn_ex4.predict_proba(X_test_scaled[:, selected_features])[:, 1])\n",
    "precision_ex4, recall_ex4, thresholds_ex4 = pr_crv_ex4\n",
    "\n",
    "optimal_threshold_ex4 = thresholds_ex4[np.argmin(np.abs(precision_ex4[:-1] - recall_ex4[:-1]))]"
   ]
  },
  {
   "cell_type": "code",
   "execution_count": 52,
   "metadata": {},
   "outputs": [
    {
     "data": {
      "image/png": "[encoded data removed]",
      "text/plain": [
       "<Figure size 800x400 with 1 Axes>"
      ]
     },
     "metadata": {},
     "output_type": "display_data"
    }
   ],
   "source": [
    "plt.figure(figsize=(8, 4))\n",
    "plt.plot(thresholds_ex4, precision_ex4[:-1], color='blue', lw=2, label='Precision')\n",
    "plt.plot(thresholds_ex4, recall_ex4[:-1], color='green', lw=2, label='Recall')\n",
    "plt.axvline(optimal_threshold_ex4, color='red', linestyle='--', label=f'Optimal Threshold ({optimal_threshold_ex4:.2f})')\n",
    "plt.xlabel('Threshold')\n",
    "plt.ylabel('Precision, Recall')\n",
    "plt.title('Experiment 4 Precision-Recall Curve')\n",
    "plt.legend(loc='lower left')\n",
    "plt.show()"
   ]
  },
  {
   "cell_type": "code",
   "execution_count": 53,
   "metadata": {},
   "outputs": [
    {
     "name": "stdout",
     "output_type": "stream",
     "text": [
      "CPU times: total: 7.53 s\n",
      "Wall time: 8.35 s\n"
     ]
    }
   ],
   "source": [
    "%%time\n",
    "train_predictions_ex4b = knn_ex4.predict_proba(X_train_scaled[:, selected_features])[:, 1] > optimal_threshold_ex4\n",
    "test_predictions_ex4b = knn_ex4.predict_proba(X_test_scaled[:, selected_features])[:, 1] > optimal_threshold_ex4"
   ]
  },
  {
   "cell_type": "code",
   "execution_count": 54,
   "metadata": {},
   "outputs": [
    {
     "name": "stdout",
     "output_type": "stream",
     "text": [
      "Training Accuracy: 0.8542690417690417\n",
      "Test Accuracy: 0.8522954091816367\n",
      "Test Precision: 0.799410029498525\n",
      "Test Recall: 0.5175047740292807\n",
      "Test F1 Score: 0.6282843894899537\n",
      "Test Confusion Matrix:\n",
      "[[4738  204]\n",
      " [ 758  813]]\n"
     ]
    }
   ],
   "source": [
    "print(f'Training Accuracy: {accuracy_score(y_train, train_predictions_ex4b)}')\n",
    "_ = report_classifier_test_performance(y_test, test_predictions_ex4b)"
   ]
  },
  {
   "cell_type": "markdown",
   "metadata": {},
   "source": [
    "## Experiment 5: (Grad-only) Manual Feature Selection\n",
    "\n",
    "For this experiment, use the df_main DataFrame object that you created in the pre-processing stage. \n",
    "Ensure that its target column is binary-valued and of integer type before using it. You will select\n",
    "at least four subsets (each containing at least ten features) to train k-NN models. You may use\n",
    "Pearson’s correlation coefficient to select features. Your goal is to increase the test accuracy.\n",
    "You are free to try any combination of features. Justify the selection of features for each subset\n",
    "in no more than three lines."
   ]
  },
  {
   "cell_type": "code",
   "execution_count": 37,
   "metadata": {},
   "outputs": [
    {
     "name": "stdout",
     "output_type": "stream",
     "text": [
      "[0 1] int32\n"
     ]
    }
   ],
   "source": [
    "# Confirm that df_main has binary value for income_>50K with integer values\n",
    "print(df_main['income_>50K'].unique(), df_main['income_>50K'].dtype)"
   ]
  },
  {
   "cell_type": "code",
   "execution_count": 46,
   "metadata": {},
   "outputs": [
    {
     "name": "stdout",
     "output_type": "stream",
     "text": [
      "Top-20 Positive Correlations:\n",
      "    income_>50K: 1.0\n",
      "    marital-status_Married-civ-spouse: 0.4446961550463188\n",
      "    education-num: 0.3351539526909404\n",
      "    age: 0.23403959384522818\n",
      "    hours-per-week: 0.2296890656708114\n",
      "    capital-gain: 0.22332881819538047\n",
      "    sex_Male: 0.2159801505840364\n",
      "    occupation_Exec-managerial: 0.21486131464645059\n",
      "    education_Bachelors: 0.1804854292020816\n",
      "    education_Masters: 0.17456971065152524\n",
      "    education_Prof-school: 0.15490683578936115\n",
      "    capital-loss: 0.15052631177035347\n",
      "    workclass_Self-emp-inc: 0.13946655734053753\n",
      "    education_Doctorate: 0.13257200580963707\n",
      "    relatioship_Wife: 0.12326353972805554\n",
      "    occupation_Prof-specialty: 0.11299337481771071\n",
      "    race_White: 0.08522449750188077\n",
      "    native-country_United-States: 0.038942084636250894\n",
      "    workclass_Local-gov: 0.03309057154415488\n",
      "    workclass_Self-emp-not-inc: 0.030019053961921914\n",
      "Top-20 Negative Correlations:\n",
      "    education_5th-6th: -0.04582616682401595\n",
      "    occupation_Farming-fishing: -0.05192482646194637\n",
      "    education_9th: -0.05576743851107227\n",
      "    education_7th-8th: -0.059524094983758144\n",
      "    native-country_Mexico: -0.06290081708896143\n",
      "    education_Some-college: -0.06353525542940686\n",
      "    marital-status_Widowed: -0.06438127591306404\n",
      "    occupation_Machine-op-inspct: -0.0694005132444189\n",
      "    marital-status_Separated: -0.07438622703108867\n",
      "    relatioship_Other-relative: -0.08371649655546803\n",
      "    education_11th: -0.08586392327839698\n",
      "    occupation_Handlers-cleaners: -0.08726514883228537\n",
      "    race_Black: -0.08908860332216574\n",
      "    workclass_Private: -0.12557318638000295\n",
      "    education_HS-grad: -0.13118854401281282\n",
      "    relatioship_Unmarried: -0.14285726137194385\n",
      "    occupation_Other-service: -0.15634773905628252\n",
      "    relatioship_Not-in-family: -0.18849737130400296\n",
      "    relatioship_Own-child: -0.22853196347382335\n",
      "    marital-status_Never-married: -0.31844032507377557\n",
      "Top-20 Absolute Correlations:\n",
      "    income_>50K: 1.0\n",
      "    marital-status_Married-civ-spouse: 0.4446961550463188\n",
      "    education-num: 0.3351539526909404\n",
      "    marital-status_Never-married: 0.31844032507377557\n",
      "    age: 0.23403959384522818\n",
      "    hours-per-week: 0.2296890656708114\n",
      "    relatioship_Own-child: 0.22853196347382335\n",
      "    capital-gain: 0.22332881819538047\n",
      "    sex_Male: 0.2159801505840364\n",
      "    occupation_Exec-managerial: 0.21486131464645059\n",
      "    relatioship_Not-in-family: 0.18849737130400296\n",
      "    education_Bachelors: 0.1804854292020816\n",
      "    education_Masters: 0.17456971065152524\n",
      "    occupation_Other-service: 0.15634773905628252\n",
      "    education_Prof-school: 0.15490683578936115\n",
      "    capital-loss: 0.15052631177035347\n",
      "    relatioship_Unmarried: 0.14285726137194385\n",
      "    workclass_Self-emp-inc: 0.13946655734053753\n",
      "    education_Doctorate: 0.13257200580963707\n",
      "    education_HS-grad: 0.13118854401281282\n"
     ]
    }
   ],
   "source": [
    "correlation_matrix = df_main.corr()\n",
    "correlation_matrix = correlation_matrix['income_>50K'].sort_values(ascending=False)\n",
    "corr_matrix_abs = correlation_matrix.abs().sort_values(ascending=False)\n",
    "\n",
    "print(\"Top-20 Positive Correlations:\")\n",
    "for feature, correlation in correlation_matrix.head(20).items():\n",
    "    print(f'    {feature}: {correlation}')\n",
    "\n",
    "print(\"Top-20 Negative Correlations:\")\n",
    "for feature, correlation in correlation_matrix.tail(20).items():\n",
    "    print(f'    {feature}: {correlation}')\n",
    "\n",
    "print(\"Top-20 Absolute Correlations:\")\n",
    "for feature, correlation in corr_matrix_abs.head(20).items():\n",
    "    print(f'    {feature}: {correlation}')\n"
   ]
  },
  {
   "cell_type": "markdown",
   "metadata": {},
   "source": [
    "The feature subsets in following code block were selected based on the following basis:\n",
    "1. The top-10 positively correlated features were selected because greater correlation\n",
    "   with the target should inidicate greater discriminability.\n",
    "2. The top-10 positively correlated features with redundancy removed. Specifically,\n",
    "   education-num provides a numerical representation of the other education labels. Hence,\n",
    "   education_Bachelors, education_Masters, etc. were removed.\n",
    "3. The top-10 negatively correlated features were selected to explore how well the kNN\n",
    "   model could perform if the features indicate the opposite class.\n",
    "4. The top-10 absolute correlated features were selected to explore how well the kNN model\n",
    "   could discriminate positively and negatively correlated features to predict the target."
   ]
  },
  {
   "cell_type": "code",
   "execution_count": 51,
   "metadata": {},
   "outputs": [],
   "source": [
    "feature_subsets = [\n",
    "    ['marital-status_Married-civ-spouse', 'education-num', 'age', 'hours-per-week', 'capital-gain', 'sex_Male', 'occupation_Exec-managerial', 'education_Bachelors', 'education_Masters', 'education_Prof-school'],\n",
    "    ['marital-status_Married-civ-spouse', 'education-num', 'age', 'hours-per-week', 'capital-gain', 'sex_Male', 'occupation_Exec-managerial', 'capital-loss', 'workclass_Self-emp-inc', 'relatioship_Wife'],\n",
    "    ['marital-status_Never-married', 'relatioship_Own-child', 'relatioship_Not-in-family', 'occupation_Other-service', 'relatioship_Unmarried', 'education_HS-grad', 'workclass_Private', 'race_Black', 'occupation_Handlers-cleaners', 'education_11th'],\n",
    "    ['marital-status_Married-civ-spouse', 'education-num', 'marital-status_Never-married', 'age', 'hours-per-week', 'relatioship_Own-child', 'capital-gain', 'sex_Male', 'occupation_Exec-managerial', 'relatioship_Not-in-family'],\n",
    "]"
   ]
  },
  {
   "cell_type": "code",
   "execution_count": 52,
   "metadata": {},
   "outputs": [],
   "source": [
    "X_main = df_main.drop(columns='income_>50K')\n",
    "y_main = df_main['income_>50K']\n",
    "\n",
    "feature_indices = [[X_main.columns.get_loc(feature) for feature in subset] for subset in feature_subsets]\n",
    "X_main = X_main.to_numpy()\n",
    "y_main = y_main.to_numpy()\n",
    "\n",
    "X_main_train, X_main_test, y_main_train, y_main_test = train_test_split(X_main, y_main, test_size=0.2, random_state=42)\n",
    "\n",
    "scaler_main = StandardScaler()\n",
    "X_main_train_scaled = scaler_main.fit_transform(X_main_train)\n",
    "X_main_test_scaled = scaler_main.transform(X_main_test)\n"
   ]
  },
  {
   "cell_type": "code",
   "execution_count": 54,
   "metadata": {},
   "outputs": [
    {
     "name": "stdout",
     "output_type": "stream",
     "text": [
      "Feature Subset: ['marital-status_Married-civ-spouse', 'education-num', 'age', 'hours-per-week', 'capital-gain', 'sex_Male', 'occupation_Exec-managerial', 'education_Bachelors', 'education_Masters', 'education_Prof-school']\n"
     ]
    },
    {
     "name": "stderr",
     "output_type": "stream",
     "text": [
      "c:\\Users\\zmswa\\miniconda3\\envs\\ecen878-base\\lib\\site-packages\\numpy\\ma\\core.py:2820: RuntimeWarning: invalid value encountered in cast\n",
      "  _data = np.array(data, dtype=dtype, copy=copy,\n"
     ]
    },
    {
     "name": "stdout",
     "output_type": "stream",
     "text": [
      "{'n_neighbors': 17, 'p': 1, 'weights': 'uniform'}\n",
      "0.6321018900012678\n",
      "\n",
      "Feature Subset: ['marital-status_Married-civ-spouse', 'education-num', 'age', 'hours-per-week', 'capital-gain', 'sex_Male', 'occupation_Exec-managerial', 'capital-loss', 'workclass_Self-emp-inc', 'relatioship_Wife']\n"
     ]
    },
    {
     "name": "stderr",
     "output_type": "stream",
     "text": [
      "c:\\Users\\zmswa\\miniconda3\\envs\\ecen878-base\\lib\\site-packages\\numpy\\ma\\core.py:2820: RuntimeWarning: invalid value encountered in cast\n",
      "  _data = np.array(data, dtype=dtype, copy=copy,\n"
     ]
    },
    {
     "name": "stdout",
     "output_type": "stream",
     "text": [
      "{'n_neighbors': 21, 'p': 2, 'weights': 'uniform'}\n",
      "0.6466802449955653\n",
      "\n",
      "Feature Subset: ['marital-status_Never-married', 'relatioship_Own-child', 'relatioship_Not-in-family', 'occupation_Other-service', 'relatioship_Unmarried', 'education_HS-grad', 'workclass_Private', 'race_Black', 'occupation_Handlers-cleaners', 'education_11th']\n",
      "{'n_neighbors': 83, 'p': 2, 'weights': 'uniform'}\n",
      "0.5391069422569927\n",
      "\n",
      "Feature Subset: ['marital-status_Married-civ-spouse', 'education-num', 'marital-status_Never-married', 'age', 'hours-per-week', 'relatioship_Own-child', 'capital-gain', 'sex_Male', 'occupation_Exec-managerial', 'relatioship_Not-in-family']\n",
      "{'n_neighbors': 17, 'p': 50, 'weights': 'uniform'}\n",
      "0.6291449596269121\n",
      "\n"
     ]
    }
   ],
   "source": [
    "parameter_grid_ex5 = {\n",
    "    \"n_neighbors\": np.arange(1, 103, 2),\n",
    "    \"p\": [1, 2, 10, 50],\n",
    "    \"weights\": [\"uniform\", \"distance\"],\n",
    "}\n",
    "\n",
    "best_params = []\n",
    "\n",
    "for f_sub, f_idx in zip(feature_subsets, feature_indices):\n",
    "    print(f'Feature Subset: {f_sub}')\n",
    "    \n",
    "    grid_search_ex5 = GridSearchCV(KNeighborsClassifier(), parameter_grid_ex5, cv=5, scoring='f1', n_jobs=-1)\n",
    "    _ = grid_search_ex5.fit(X_main_train_scaled[:, f_idx], y_main_train)\n",
    "    \n",
    "    print(grid_search_ex5.best_params_)\n",
    "    print(grid_search_ex5.best_score_)\n",
    "    print()\n",
    "\n",
    "    best_params.append(grid_search_ex5.best_params_)"
   ]
  },
  {
   "cell_type": "code",
   "execution_count": 55,
   "metadata": {},
   "outputs": [
    {
     "name": "stdout",
     "output_type": "stream",
     "text": [
      "Feature Subset: ['marital-status_Married-civ-spouse', 'education-num', 'age', 'hours-per-week', 'capital-gain', 'sex_Male', 'occupation_Exec-managerial', 'education_Bachelors', 'education_Masters', 'education_Prof-school']\n",
      "Best Parameters: {'n_neighbors': 17, 'p': 1, 'weights': 'uniform'}\n",
      "\n",
      "Training Accuracy: 0.8548065110565111\n",
      "Test Accuracy: 0.8446184553968985\n",
      "Test Precision: 0.714176245210728\n",
      "Test Recall: 0.593252705283259\n",
      "Test F1 Score: 0.6481223922114048\n",
      "Test Confusion Matrix:\n",
      "[[4569  373]\n",
      " [ 639  932]]\n",
      "\n",
      "Feature Subset: ['marital-status_Married-civ-spouse', 'education-num', 'age', 'hours-per-week', 'capital-gain', 'sex_Male', 'occupation_Exec-managerial', 'capital-loss', 'workclass_Self-emp-inc', 'relatioship_Wife']\n",
      "Best Parameters: {'n_neighbors': 21, 'p': 2, 'weights': 'uniform'}\n",
      "\n",
      "Training Accuracy: 0.8578393734643734\n",
      "Test Accuracy: 0.8510670965760786\n",
      "Test Precision: 0.7313317936874519\n",
      "Test Recall: 0.60471037555697\n",
      "Test F1 Score: 0.662020905923345\n",
      "Test Confusion Matrix:\n",
      "[[4593  349]\n",
      " [ 621  950]]\n",
      "\n",
      "Feature Subset: ['marital-status_Never-married', 'relatioship_Own-child', 'relatioship_Not-in-family', 'occupation_Other-service', 'relatioship_Unmarried', 'education_HS-grad', 'workclass_Private', 'race_Black', 'occupation_Handlers-cleaners', 'education_11th']\n",
      "Best Parameters: {'n_neighbors': 83, 'p': 2, 'weights': 'uniform'}\n",
      "\n",
      "Training Accuracy: 0.7880451474201474\n",
      "Test Accuracy: 0.7850452940273299\n",
      "Test Precision: 0.5489410417859187\n",
      "Test Recall: 0.6104392106938256\n",
      "Test F1 Score: 0.5780590717299579\n",
      "Test Confusion Matrix:\n",
      "[[4154  788]\n",
      " [ 612  959]]\n",
      "\n",
      "Feature Subset: ['marital-status_Married-civ-spouse', 'education-num', 'marital-status_Never-married', 'age', 'hours-per-week', 'relatioship_Own-child', 'capital-gain', 'sex_Male', 'occupation_Exec-managerial', 'relatioship_Not-in-family']\n",
      "Best Parameters: {'n_neighbors': 17, 'p': 50, 'weights': 'uniform'}\n",
      "\n",
      "Training Accuracy: 0.8538083538083538\n",
      "Test Accuracy: 0.8413941348073085\n",
      "Test Precision: 0.7118110236220473\n",
      "Test Recall: 0.5754296626352642\n",
      "Test F1 Score: 0.6363956353396691\n",
      "Test Confusion Matrix:\n",
      "[[4576  366]\n",
      " [ 667  904]]\n",
      "\n"
     ]
    }
   ],
   "source": [
    "for f_sub, f_idx, params in zip(feature_subsets, feature_indices, best_params):\n",
    "    print(f'Feature Subset: {f_sub}')\n",
    "    print(f'Best Parameters: {params}')\n",
    "    print()\n",
    "\n",
    "    knn_ex5 = KNeighborsClassifier(**params)\n",
    "    _ = knn_ex5.fit(X_main_train_scaled[:, [df_main.columns.get_loc(f) for f in f_sub]], y_main_train)\n",
    "\n",
    "    print(f'Training Accuracy: {accuracy_score(y_main_train, knn_ex5.predict(X_main_train_scaled[:, [df_main.columns.get_loc(f) for f in f_sub]]))}')\n",
    "    _ = report_classifier_test_performance(y_main_test, knn_ex5.predict(X_main_test_scaled[:, [df_main.columns.get_loc(f) for f in f_sub]]))\n",
    "\n",
    "    print()\n",
    "    "
   ]
  },
  {
   "cell_type": "markdown",
   "metadata": {},
   "source": [
    "# Assignment 1: Dataset Exploration and A Study of the k-Nearest Neighbors Model\n",
    "\n",
    "### Task/Problem Statement: \n",
    "The goal of this assignment is to explore a dataset and study the k-Nearest Neighbors (kNN) model\n",
    "for classification.\n",
    "- Part B: Understanding the curse of dimensionality & the fundamental limitation of the k-NN\n",
    "  model using an unstructured dataset\n",
    "\n",
    "### Dataset: CIFAR-10\n",
    "Contains 60,000 32 x 32 color images in 10 different classes. The 10 different classes represent\n",
    "airplanes, cars, birds, cats, deer, dogs, frogs, horses, ships, and trucks. There are 6,000 images\n",
    "of each class.\n",
    "\n",
    "##### Description\n",
    "\n",
    "##### Source: https://www.cs.toronto.edu/~kriz/cifar-10-python.tar.gz\n",
    "\n",
    "##### Input variables:\n",
    "- 32 x 32 color images (RGB channels)\n",
    "\n",
    "##### Output variable: \n",
    "- Class label (1 of 10 classes)\n",
    "    - 0. airplane\n",
    "    - 1. automobile\n",
    "    - 2. bird\n",
    "    - 3. cat\n",
    "    - 4. deer\n",
    "    - 5. dog\n",
    "    - 6. frog\n",
    "    - 7. horse\n",
    "    - 8. ship\n",
    "    - 9. truck"
   ]
  },
  {
   "cell_type": "code",
   "execution_count": 55,
   "metadata": {},
   "outputs": [],
   "source": [
    "from keras.datasets import cifar10"
   ]
  },
  {
   "cell_type": "markdown",
   "metadata": {},
   "source": [
    "## Load Data & Display Dataset Information"
   ]
  },
  {
   "cell_type": "code",
   "execution_count": 56,
   "metadata": {},
   "outputs": [],
   "source": [
    "(X_cifar_train, y_cifar_train), (X_cifar_test, y_cifar_test) = cifar10.load_data()"
   ]
  },
  {
   "cell_type": "code",
   "execution_count": 57,
   "metadata": {},
   "outputs": [
    {
     "name": "stdout",
     "output_type": "stream",
     "text": [
      "Training Set: (50000, 32, 32, 3), (50000, 1)\n",
      "Test Set: (10000, 32, 32, 3), (10000, 1)\n",
      "Classes: [0 1 2 3 4 5 6 7 8 9]\n",
      "Pixel Range and Type: 0 - 255, uint8\n"
     ]
    }
   ],
   "source": [
    "print(f'Training Set: {X_cifar_train.shape}, {y_cifar_train.shape}')\n",
    "print(f'Test Set: {X_cifar_test.shape}, {y_cifar_test.shape}')\n",
    "\n",
    "print(f'Classes: {np.unique(y_cifar_train)}')\n",
    "print(f'Pixel Range and Type: {X_cifar_train.min()} - {X_cifar_train.max()}, {X_cifar_train.dtype}')"
   ]
  },
  {
   "cell_type": "code",
   "execution_count": 58,
   "metadata": {},
   "outputs": [
    {
     "name": "stdout",
     "output_type": "stream",
     "text": [
      "Training Set:\n",
      "    Class 0: 5000 samples\n",
      "    Class 1: 5000 samples\n",
      "    Class 2: 5000 samples\n",
      "    Class 3: 5000 samples\n",
      "    Class 4: 5000 samples\n",
      "    Class 5: 5000 samples\n",
      "    Class 6: 5000 samples\n",
      "    Class 7: 5000 samples\n",
      "    Class 8: 5000 samples\n",
      "    Class 9: 5000 samples\n",
      "Test Set:\n",
      "    Class 0: 1000 samples\n",
      "    Class 1: 1000 samples\n",
      "    Class 2: 1000 samples\n",
      "    Class 3: 1000 samples\n",
      "    Class 4: 1000 samples\n",
      "    Class 5: 1000 samples\n",
      "    Class 6: 1000 samples\n",
      "    Class 7: 1000 samples\n",
      "    Class 8: 1000 samples\n",
      "    Class 9: 1000 samples\n"
     ]
    }
   ],
   "source": [
    "\n",
    "# Display the number of samples for each class in the training set and test set\n",
    "unique_train, counts_train = np.unique(y_cifar_train, return_counts=True)\n",
    "unique_test, counts_test = np.unique(y_cifar_test, return_counts=True)\n",
    "\n",
    "print(\"Training Set:\")\n",
    "for i, (label, count) in enumerate(zip(unique_train, counts_train)):\n",
    "    print(f'    Class {label}: {count} samples')\n",
    "\n",
    "print(\"Test Set:\")\n",
    "for i, (label, count) in enumerate(zip(unique_test, counts_test)):\n",
    "    print(f'    Class {label}: {count} samples')"
   ]
  },
  {
   "cell_type": "code",
   "execution_count": 60,
   "metadata": {},
   "outputs": [
    {
     "data": {
      "image/png": "[encoded data removed]",
      "text/plain": [
       "<Figure size 1000x500 with 10 Axes>"
      ]
     },
     "metadata": {},
     "output_type": "display_data"
    }
   ],
   "source": [
    "cifar10_classes = ['airplane', 'automobile', 'bird', 'cat', 'deer', 'dog', 'frog', 'horse', 'ship', 'truck']\n",
    "# Display the first 5 images from the training set\n",
    "plt.figure(figsize=(10, 5))\n",
    "for i in range(2):\n",
    "    for j in range(5):\n",
    "        idx = i * 5 + j\n",
    "        plt.subplot(2, 5, idx + 1)\n",
    "        plt.imshow(X_cifar_train[idx])\n",
    "        plt.axis('off')\n",
    "        plt.title(f'{cifar10_classes[y_cifar_train[idx][0]]}')\n",
    "        plt.axis('off')"
   ]
  },
  {
   "cell_type": "markdown",
   "metadata": {},
   "source": [
    "## Data Pre-processing\n"
   ]
  },
  {
   "cell_type": "markdown",
   "metadata": {},
   "source": [
    "Before you use this data for the k-NN model, you need to flatten each sample (i.e., 32 x \n",
    "32 x 3 = 3072) such that the dimension of the training and test set becomes:\n",
    "- 50000 x 3072\n",
    "- 10000 x 3072"
   ]
  },
  {
   "cell_type": "code",
   "execution_count": 87,
   "metadata": {},
   "outputs": [
    {
     "name": "stdout",
     "output_type": "stream",
     "text": [
      "(50000, 3072) (10000, 3072)\n"
     ]
    }
   ],
   "source": [
    "X_cifar_train = np.reshape(X_cifar_train, (X_cifar_train.shape[0], -1))\n",
    "X_cifar_test = np.reshape(X_cifar_test, (X_cifar_test.shape[0], -1))\n",
    "\n",
    "print(X_cifar_train.shape, X_cifar_test.shape)"
   ]
  },
  {
   "cell_type": "markdown",
   "metadata": {},
   "source": [
    "The train and test labels will be loaded as a 1D column vector. You need to convert the \n",
    "1D vector into a 1D array (because the sklearn k-NN model requires the label data to be a \n",
    "1D array)."
   ]
  },
  {
   "cell_type": "code",
   "execution_count": 88,
   "metadata": {},
   "outputs": [
    {
     "name": "stdout",
     "output_type": "stream",
     "text": [
      "(50000,) (10000,)\n"
     ]
    }
   ],
   "source": [
    "y_cifar_train = y_cifar_train.ravel()\n",
    "y_cifar_test = y_cifar_test.ravel()\n",
    "\n",
    "print(y_cifar_train.shape, y_cifar_test.shape)"
   ]
  },
  {
   "cell_type": "markdown",
   "metadata": {},
   "source": [
    "Finally, scale the data using the min-max scaling technique, i.e., by dividing the training \n",
    "& test data matrix by 255.0."
   ]
  },
  {
   "cell_type": "code",
   "execution_count": 89,
   "metadata": {},
   "outputs": [
    {
     "name": "stdout",
     "output_type": "stream",
     "text": [
      "0.0 1.0 float32\n",
      "0.0 1.0 float32\n"
     ]
    }
   ],
   "source": [
    "X_cifar_train = X_cifar_train.astype('float32') / 255.0\n",
    "X_cifar_test = X_cifar_test.astype('float32') / 255.0\n",
    "\n",
    "print(X_cifar_train.min(), X_cifar_train.max(), X_cifar_train.dtype)\n",
    "print(X_cifar_test.min(), X_cifar_test.max(), X_cifar_test.dtype)"
   ]
  },
  {
   "cell_type": "markdown",
   "metadata": {},
   "source": [
    "## Experiment 6: Multiclass kNN Classification"
   ]
  },
  {
   "cell_type": "code",
   "execution_count": 90,
   "metadata": {},
   "outputs": [
    {
     "name": "stdout",
     "output_type": "stream",
     "text": [
      "CPU times: total: 156 ms\n",
      "Wall time: 177 ms\n"
     ]
    }
   ],
   "source": [
    "%%time\n",
    "best_params_ex6 = {'n_neighbors': 5, 'p': 1}\n",
    "knn_ex6 = KNeighborsClassifier(**best_params_ex6)\n",
    "# multi_knn_ex6 = MultiOutputClassifier(knn_ex6)\n",
    "_ = knn_ex6.fit(X_cifar_train, y_cifar_train)"
   ]
  },
  {
   "cell_type": "code",
   "execution_count": 91,
   "metadata": {},
   "outputs": [
    {
     "name": "stdout",
     "output_type": "stream",
     "text": [
      "CPU times: total: 1h 34min 14s\n",
      "Wall time: 18min 14s\n"
     ]
    }
   ],
   "source": [
    "%%time\n",
    "y_train_predicted = knn_ex6.predict(X_cifar_train)\n"
   ]
  },
  {
   "cell_type": "code",
   "execution_count": 94,
   "metadata": {},
   "outputs": [
    {
     "name": "stdout",
     "output_type": "stream",
     "text": [
      "\n",
      "Training Accuracy:  0.53516\n"
     ]
    }
   ],
   "source": [
    "train_accuracy_knn = np.mean(y_train_predicted == y_cifar_train)\n",
    "print(\"\\nTraining Accuracy: \", train_accuracy_knn)"
   ]
  },
  {
   "cell_type": "code",
   "execution_count": 95,
   "metadata": {},
   "outputs": [
    {
     "name": "stdout",
     "output_type": "stream",
     "text": [
      "CPU times: total: 18min 35s\n",
      "Wall time: 4min 3s\n"
     ]
    }
   ],
   "source": [
    "%%time\n",
    "y_test_predicted = knn_ex6.predict(X_cifar_test)"
   ]
  },
  {
   "cell_type": "code",
   "execution_count": 96,
   "metadata": {},
   "outputs": [
    {
     "name": "stdout",
     "output_type": "stream",
     "text": [
      "              precision    recall  f1-score   support\n",
      "\n",
      "           0       0.37      0.58      0.45      1000\n",
      "           1       0.65      0.29      0.40      1000\n",
      "           2       0.24      0.46      0.32      1000\n",
      "           3       0.33      0.25      0.28      1000\n",
      "           4       0.26      0.49      0.34      1000\n",
      "           5       0.44      0.27      0.33      1000\n",
      "           6       0.40      0.29      0.34      1000\n",
      "           7       0.70      0.27      0.39      1000\n",
      "           8       0.45      0.66      0.54      1000\n",
      "           9       0.72      0.23      0.34      1000\n",
      "\n",
      "    accuracy                           0.38     10000\n",
      "   macro avg       0.46      0.38      0.37     10000\n",
      "weighted avg       0.46      0.38      0.37     10000\n",
      "\n"
     ]
    }
   ],
   "source": [
    "from sklearn.metrics import classification_report\n",
    "print(classification_report(y_cifar_test, y_test_predicted))"
   ]
  },
  {
   "cell_type": "code",
   "execution_count": 97,
   "metadata": {},
   "outputs": [
    {
     "data": {
      "text/html": [
       "<div>\n",
       "<style scoped>\n",
       "    .dataframe tbody tr th:only-of-type {\n",
       "        vertical-align: middle;\n",
       "    }\n",
       "\n",
       "    .dataframe tbody tr th {\n",
       "        vertical-align: top;\n",
       "    }\n",
       "\n",
       "    .dataframe thead th {\n",
       "        text-align: right;\n",
       "    }\n",
       "</style>\n",
       "<table border=\"1\" class=\"dataframe\">\n",
       "  <thead>\n",
       "    <tr style=\"text-align: right;\">\n",
       "      <th>Predicted</th>\n",
       "      <th>0</th>\n",
       "      <th>1</th>\n",
       "      <th>2</th>\n",
       "      <th>3</th>\n",
       "      <th>4</th>\n",
       "      <th>5</th>\n",
       "      <th>6</th>\n",
       "      <th>7</th>\n",
       "      <th>8</th>\n",
       "      <th>9</th>\n",
       "      <th>All</th>\n",
       "    </tr>\n",
       "    <tr>\n",
       "      <th>True</th>\n",
       "      <th></th>\n",
       "      <th></th>\n",
       "      <th></th>\n",
       "      <th></th>\n",
       "      <th></th>\n",
       "      <th></th>\n",
       "      <th></th>\n",
       "      <th></th>\n",
       "      <th></th>\n",
       "      <th></th>\n",
       "      <th></th>\n",
       "    </tr>\n",
       "  </thead>\n",
       "  <tbody>\n",
       "    <tr>\n",
       "      <th>0</th>\n",
       "      <td>582</td>\n",
       "      <td>9</td>\n",
       "      <td>101</td>\n",
       "      <td>10</td>\n",
       "      <td>49</td>\n",
       "      <td>7</td>\n",
       "      <td>25</td>\n",
       "      <td>7</td>\n",
       "      <td>195</td>\n",
       "      <td>15</td>\n",
       "      <td>1000</td>\n",
       "    </tr>\n",
       "    <tr>\n",
       "      <th>1</th>\n",
       "      <td>139</td>\n",
       "      <td>288</td>\n",
       "      <td>89</td>\n",
       "      <td>50</td>\n",
       "      <td>130</td>\n",
       "      <td>40</td>\n",
       "      <td>44</td>\n",
       "      <td>17</td>\n",
       "      <td>168</td>\n",
       "      <td>35</td>\n",
       "      <td>1000</td>\n",
       "    </tr>\n",
       "    <tr>\n",
       "      <th>2</th>\n",
       "      <td>145</td>\n",
       "      <td>5</td>\n",
       "      <td>456</td>\n",
       "      <td>54</td>\n",
       "      <td>206</td>\n",
       "      <td>30</td>\n",
       "      <td>55</td>\n",
       "      <td>13</td>\n",
       "      <td>34</td>\n",
       "      <td>2</td>\n",
       "      <td>1000</td>\n",
       "    </tr>\n",
       "    <tr>\n",
       "      <th>3</th>\n",
       "      <td>82</td>\n",
       "      <td>11</td>\n",
       "      <td>215</td>\n",
       "      <td>246</td>\n",
       "      <td>162</td>\n",
       "      <td>109</td>\n",
       "      <td>101</td>\n",
       "      <td>14</td>\n",
       "      <td>52</td>\n",
       "      <td>8</td>\n",
       "      <td>1000</td>\n",
       "    </tr>\n",
       "    <tr>\n",
       "      <th>4</th>\n",
       "      <td>92</td>\n",
       "      <td>4</td>\n",
       "      <td>259</td>\n",
       "      <td>40</td>\n",
       "      <td>489</td>\n",
       "      <td>18</td>\n",
       "      <td>43</td>\n",
       "      <td>14</td>\n",
       "      <td>40</td>\n",
       "      <td>1</td>\n",
       "      <td>1000</td>\n",
       "    </tr>\n",
       "    <tr>\n",
       "      <th>5</th>\n",
       "      <td>72</td>\n",
       "      <td>4</td>\n",
       "      <td>214</td>\n",
       "      <td>151</td>\n",
       "      <td>166</td>\n",
       "      <td>266</td>\n",
       "      <td>64</td>\n",
       "      <td>14</td>\n",
       "      <td>43</td>\n",
       "      <td>6</td>\n",
       "      <td>1000</td>\n",
       "    </tr>\n",
       "    <tr>\n",
       "      <th>6</th>\n",
       "      <td>36</td>\n",
       "      <td>4</td>\n",
       "      <td>259</td>\n",
       "      <td>74</td>\n",
       "      <td>285</td>\n",
       "      <td>27</td>\n",
       "      <td>288</td>\n",
       "      <td>1</td>\n",
       "      <td>25</td>\n",
       "      <td>1</td>\n",
       "      <td>1000</td>\n",
       "    </tr>\n",
       "    <tr>\n",
       "      <th>7</th>\n",
       "      <td>116</td>\n",
       "      <td>10</td>\n",
       "      <td>155</td>\n",
       "      <td>50</td>\n",
       "      <td>259</td>\n",
       "      <td>58</td>\n",
       "      <td>38</td>\n",
       "      <td>267</td>\n",
       "      <td>37</td>\n",
       "      <td>10</td>\n",
       "      <td>1000</td>\n",
       "    </tr>\n",
       "    <tr>\n",
       "      <th>8</th>\n",
       "      <td>154</td>\n",
       "      <td>20</td>\n",
       "      <td>47</td>\n",
       "      <td>33</td>\n",
       "      <td>43</td>\n",
       "      <td>17</td>\n",
       "      <td>10</td>\n",
       "      <td>6</td>\n",
       "      <td>662</td>\n",
       "      <td>8</td>\n",
       "      <td>1000</td>\n",
       "    </tr>\n",
       "    <tr>\n",
       "      <th>9</th>\n",
       "      <td>166</td>\n",
       "      <td>90</td>\n",
       "      <td>71</td>\n",
       "      <td>40</td>\n",
       "      <td>91</td>\n",
       "      <td>30</td>\n",
       "      <td>46</td>\n",
       "      <td>27</td>\n",
       "      <td>213</td>\n",
       "      <td>226</td>\n",
       "      <td>1000</td>\n",
       "    </tr>\n",
       "    <tr>\n",
       "      <th>All</th>\n",
       "      <td>1584</td>\n",
       "      <td>445</td>\n",
       "      <td>1866</td>\n",
       "      <td>748</td>\n",
       "      <td>1880</td>\n",
       "      <td>602</td>\n",
       "      <td>714</td>\n",
       "      <td>380</td>\n",
       "      <td>1469</td>\n",
       "      <td>312</td>\n",
       "      <td>10000</td>\n",
       "    </tr>\n",
       "  </tbody>\n",
       "</table>\n",
       "</div>"
      ],
      "text/plain": [
       "Predicted     0    1     2    3     4    5    6    7     8    9    All\n",
       "True                                                                  \n",
       "0           582    9   101   10    49    7   25    7   195   15   1000\n",
       "1           139  288    89   50   130   40   44   17   168   35   1000\n",
       "2           145    5   456   54   206   30   55   13    34    2   1000\n",
       "3            82   11   215  246   162  109  101   14    52    8   1000\n",
       "4            92    4   259   40   489   18   43   14    40    1   1000\n",
       "5            72    4   214  151   166  266   64   14    43    6   1000\n",
       "6            36    4   259   74   285   27  288    1    25    1   1000\n",
       "7           116   10   155   50   259   58   38  267    37   10   1000\n",
       "8           154   20    47   33    43   17   10    6   662    8   1000\n",
       "9           166   90    71   40    91   30   46   27   213  226   1000\n",
       "All        1584  445  1866  748  1880  602  714  380  1469  312  10000"
      ]
     },
     "execution_count": 97,
     "metadata": {},
     "output_type": "execute_result"
    }
   ],
   "source": [
    "pd.crosstab(y_cifar_test, y_test_predicted, rownames=['True'], colnames=['Predicted'], margins=True)"
   ]
  },
  {
   "cell_type": "code",
   "execution_count": null,
   "metadata": {},
   "outputs": [],
   "source": []
  }
 ],
 "metadata": {
  "kernelspec": {
   "display_name": "Python 3 (ipykernel)",
   "language": "python",
   "name": "python3"
  },
  "language_info": {
   "codemirror_mode": {
    "name": "ipython",
    "version": 3
   },
   "file_extension": ".py",
   "mimetype": "text/x-python",
   "name": "python",
   "nbconvert_exporter": "python",
   "pygments_lexer": "ipython3",
   "version": "3.10.13"
  }
 },
 "nbformat": 4,
 "nbformat_minor": 2
}
